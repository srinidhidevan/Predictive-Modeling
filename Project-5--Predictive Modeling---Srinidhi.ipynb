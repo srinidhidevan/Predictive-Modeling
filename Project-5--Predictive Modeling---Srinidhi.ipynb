{
 "cells": [
  {
   "cell_type": "markdown",
   "metadata": {},
   "source": [
    "## Problem 1: Linear Regression\n",
    "\n",
    "### You are hired by a company Gem Stones co ltd, which is a cubic zirconia manufacturer. You are provided with the dataset containing the prices and other attributes of almost 27,000 cubic zirconia (which is an inexpensive diamond alternative with many of the same qualities as a diamond). The company is earning different profits on different prize slots. You have to help the company in predicting the price for the stone on the bases of the details given in the dataset so it can distinguish between higher profitable stones and lower profitable stones so as to have better profit share. Also, provide them with the best 5 attributes that are most important.\n",
    "\n"
   ]
  },
  {
   "cell_type": "code",
   "execution_count": 1,
   "metadata": {},
   "outputs": [],
   "source": [
    "import numpy as np   \n",
    "import pandas as pd \n",
    "import matplotlib.pyplot as plt   \n",
    "import matplotlib.style\n",
    "plt.style.use('classic')\n",
    "%matplotlib inline \n",
    "import seaborn as sns\n",
    "from sklearn.linear_model import LinearRegression\n",
    "import statsmodels.api as sm\n",
    "import scipy.stats as stats\n",
    "import copy\n",
    "import os\n",
    "from sklearn.model_selection import train_test_split\n",
    "from sklearn.metrics import mean_squared_error\n",
    "from statsmodels.stats.outliers_influence import variance_inflation_factor\n",
    "import math\n",
    "from scipy.stats import zscore"
   ]
  },
  {
   "cell_type": "markdown",
   "metadata": {},
   "source": [
    "### 1.1. Read the data and do exploratory data analysis. Describe the data briefly. (Check the null values, Data types, shape, EDA). Perform Univariate and Bivariate Analysis."
   ]
  },
  {
   "cell_type": "code",
   "execution_count": 2,
   "metadata": {},
   "outputs": [],
   "source": [
    "diamond = pd.read_csv('cubic_zirconia.csv').drop('Unnamed: 0',axis=1)"
   ]
  },
  {
   "cell_type": "markdown",
   "metadata": {},
   "source": [
    "#### Observing the first 5 obsrvations of the dataset"
   ]
  },
  {
   "cell_type": "code",
   "execution_count": 3,
   "metadata": {
    "scrolled": true
   },
   "outputs": [
    {
     "data": {
      "text/html": [
       "<div>\n",
       "<style scoped>\n",
       "    .dataframe tbody tr th:only-of-type {\n",
       "        vertical-align: middle;\n",
       "    }\n",
       "\n",
       "    .dataframe tbody tr th {\n",
       "        vertical-align: top;\n",
       "    }\n",
       "\n",
       "    .dataframe thead th {\n",
       "        text-align: right;\n",
       "    }\n",
       "</style>\n",
       "<table border=\"1\" class=\"dataframe\">\n",
       "  <thead>\n",
       "    <tr style=\"text-align: right;\">\n",
       "      <th></th>\n",
       "      <th>carat</th>\n",
       "      <th>cut</th>\n",
       "      <th>color</th>\n",
       "      <th>clarity</th>\n",
       "      <th>depth</th>\n",
       "      <th>table</th>\n",
       "      <th>x</th>\n",
       "      <th>y</th>\n",
       "      <th>z</th>\n",
       "      <th>price</th>\n",
       "    </tr>\n",
       "  </thead>\n",
       "  <tbody>\n",
       "    <tr>\n",
       "      <th>0</th>\n",
       "      <td>0.30</td>\n",
       "      <td>Ideal</td>\n",
       "      <td>E</td>\n",
       "      <td>SI1</td>\n",
       "      <td>62.1</td>\n",
       "      <td>58.0</td>\n",
       "      <td>4.27</td>\n",
       "      <td>4.29</td>\n",
       "      <td>2.66</td>\n",
       "      <td>499</td>\n",
       "    </tr>\n",
       "    <tr>\n",
       "      <th>1</th>\n",
       "      <td>0.33</td>\n",
       "      <td>Premium</td>\n",
       "      <td>G</td>\n",
       "      <td>IF</td>\n",
       "      <td>60.8</td>\n",
       "      <td>58.0</td>\n",
       "      <td>4.42</td>\n",
       "      <td>4.46</td>\n",
       "      <td>2.70</td>\n",
       "      <td>984</td>\n",
       "    </tr>\n",
       "    <tr>\n",
       "      <th>2</th>\n",
       "      <td>0.90</td>\n",
       "      <td>Very Good</td>\n",
       "      <td>E</td>\n",
       "      <td>VVS2</td>\n",
       "      <td>62.2</td>\n",
       "      <td>60.0</td>\n",
       "      <td>6.04</td>\n",
       "      <td>6.12</td>\n",
       "      <td>3.78</td>\n",
       "      <td>6289</td>\n",
       "    </tr>\n",
       "    <tr>\n",
       "      <th>3</th>\n",
       "      <td>0.42</td>\n",
       "      <td>Ideal</td>\n",
       "      <td>F</td>\n",
       "      <td>VS1</td>\n",
       "      <td>61.6</td>\n",
       "      <td>56.0</td>\n",
       "      <td>4.82</td>\n",
       "      <td>4.80</td>\n",
       "      <td>2.96</td>\n",
       "      <td>1082</td>\n",
       "    </tr>\n",
       "    <tr>\n",
       "      <th>4</th>\n",
       "      <td>0.31</td>\n",
       "      <td>Ideal</td>\n",
       "      <td>F</td>\n",
       "      <td>VVS1</td>\n",
       "      <td>60.4</td>\n",
       "      <td>59.0</td>\n",
       "      <td>4.35</td>\n",
       "      <td>4.43</td>\n",
       "      <td>2.65</td>\n",
       "      <td>779</td>\n",
       "    </tr>\n",
       "  </tbody>\n",
       "</table>\n",
       "</div>"
      ],
      "text/plain": [
       "   carat        cut color clarity  depth  table     x     y     z  price\n",
       "0   0.30      Ideal     E     SI1   62.1   58.0  4.27  4.29  2.66    499\n",
       "1   0.33    Premium     G      IF   60.8   58.0  4.42  4.46  2.70    984\n",
       "2   0.90  Very Good     E    VVS2   62.2   60.0  6.04  6.12  3.78   6289\n",
       "3   0.42      Ideal     F     VS1   61.6   56.0  4.82  4.80  2.96   1082\n",
       "4   0.31      Ideal     F    VVS1   60.4   59.0  4.35  4.43  2.65    779"
      ]
     },
     "execution_count": 3,
     "metadata": {},
     "output_type": "execute_result"
    }
   ],
   "source": [
    "diamond.head()"
   ]
  },
  {
   "cell_type": "markdown",
   "metadata": {},
   "source": [
    "#### Checking for Missing Values"
   ]
  },
  {
   "cell_type": "code",
   "execution_count": 4,
   "metadata": {},
   "outputs": [
    {
     "data": {
      "text/plain": [
       "carat        0\n",
       "cut          0\n",
       "color        0\n",
       "clarity      0\n",
       "depth      697\n",
       "table        0\n",
       "x            0\n",
       "y            0\n",
       "z            0\n",
       "price        0\n",
       "dtype: int64"
      ]
     },
     "execution_count": 4,
     "metadata": {},
     "output_type": "execute_result"
    }
   ],
   "source": [
    "diamond.isnull().sum()"
   ]
  },
  {
   "cell_type": "markdown",
   "metadata": {},
   "source": [
    "#### Checking for the Data Types"
   ]
  },
  {
   "cell_type": "code",
   "execution_count": 5,
   "metadata": {},
   "outputs": [
    {
     "data": {
      "text/plain": [
       "carat      float64\n",
       "cut         object\n",
       "color       object\n",
       "clarity     object\n",
       "depth      float64\n",
       "table      float64\n",
       "x          float64\n",
       "y          float64\n",
       "z          float64\n",
       "price        int64\n",
       "dtype: object"
      ]
     },
     "execution_count": 5,
     "metadata": {},
     "output_type": "execute_result"
    }
   ],
   "source": [
    "diamond.dtypes"
   ]
  },
  {
   "cell_type": "markdown",
   "metadata": {},
   "source": [
    "#### Dimension of the Dataset"
   ]
  },
  {
   "cell_type": "code",
   "execution_count": 6,
   "metadata": {},
   "outputs": [
    {
     "data": {
      "text/plain": [
       "(26967, 10)"
      ]
     },
     "execution_count": 6,
     "metadata": {},
     "output_type": "execute_result"
    }
   ],
   "source": [
    "diamond.shape "
   ]
  },
  {
   "cell_type": "markdown",
   "metadata": {},
   "source": [
    "#### Information of the Dataset"
   ]
  },
  {
   "cell_type": "code",
   "execution_count": 7,
   "metadata": {
    "scrolled": true
   },
   "outputs": [
    {
     "name": "stdout",
     "output_type": "stream",
     "text": [
      "<class 'pandas.core.frame.DataFrame'>\n",
      "RangeIndex: 26967 entries, 0 to 26966\n",
      "Data columns (total 10 columns):\n",
      " #   Column   Non-Null Count  Dtype  \n",
      "---  ------   --------------  -----  \n",
      " 0   carat    26967 non-null  float64\n",
      " 1   cut      26967 non-null  object \n",
      " 2   color    26967 non-null  object \n",
      " 3   clarity  26967 non-null  object \n",
      " 4   depth    26270 non-null  float64\n",
      " 5   table    26967 non-null  float64\n",
      " 6   x        26967 non-null  float64\n",
      " 7   y        26967 non-null  float64\n",
      " 8   z        26967 non-null  float64\n",
      " 9   price    26967 non-null  int64  \n",
      "dtypes: float64(6), int64(1), object(3)\n",
      "memory usage: 2.1+ MB\n"
     ]
    }
   ],
   "source": [
    "diamond.info()"
   ]
  },
  {
   "cell_type": "markdown",
   "metadata": {},
   "source": [
    "#### Data Summary- Measures of Central Tendency & Measures of Dispersion"
   ]
  },
  {
   "cell_type": "code",
   "execution_count": 8,
   "metadata": {
    "scrolled": true
   },
   "outputs": [
    {
     "data": {
      "text/html": [
       "<div>\n",
       "<style scoped>\n",
       "    .dataframe tbody tr th:only-of-type {\n",
       "        vertical-align: middle;\n",
       "    }\n",
       "\n",
       "    .dataframe tbody tr th {\n",
       "        vertical-align: top;\n",
       "    }\n",
       "\n",
       "    .dataframe thead th {\n",
       "        text-align: right;\n",
       "    }\n",
       "</style>\n",
       "<table border=\"1\" class=\"dataframe\">\n",
       "  <thead>\n",
       "    <tr style=\"text-align: right;\">\n",
       "      <th></th>\n",
       "      <th>carat</th>\n",
       "      <th>cut</th>\n",
       "      <th>color</th>\n",
       "      <th>clarity</th>\n",
       "      <th>depth</th>\n",
       "      <th>table</th>\n",
       "      <th>x</th>\n",
       "      <th>y</th>\n",
       "      <th>z</th>\n",
       "      <th>price</th>\n",
       "    </tr>\n",
       "  </thead>\n",
       "  <tbody>\n",
       "    <tr>\n",
       "      <th>count</th>\n",
       "      <td>26967.000000</td>\n",
       "      <td>26967</td>\n",
       "      <td>26967</td>\n",
       "      <td>26967</td>\n",
       "      <td>26270.000000</td>\n",
       "      <td>26967.000000</td>\n",
       "      <td>26967.000000</td>\n",
       "      <td>26967.000000</td>\n",
       "      <td>26967.000000</td>\n",
       "      <td>26967.000000</td>\n",
       "    </tr>\n",
       "    <tr>\n",
       "      <th>unique</th>\n",
       "      <td>NaN</td>\n",
       "      <td>5</td>\n",
       "      <td>7</td>\n",
       "      <td>8</td>\n",
       "      <td>NaN</td>\n",
       "      <td>NaN</td>\n",
       "      <td>NaN</td>\n",
       "      <td>NaN</td>\n",
       "      <td>NaN</td>\n",
       "      <td>NaN</td>\n",
       "    </tr>\n",
       "    <tr>\n",
       "      <th>top</th>\n",
       "      <td>NaN</td>\n",
       "      <td>Ideal</td>\n",
       "      <td>G</td>\n",
       "      <td>SI1</td>\n",
       "      <td>NaN</td>\n",
       "      <td>NaN</td>\n",
       "      <td>NaN</td>\n",
       "      <td>NaN</td>\n",
       "      <td>NaN</td>\n",
       "      <td>NaN</td>\n",
       "    </tr>\n",
       "    <tr>\n",
       "      <th>freq</th>\n",
       "      <td>NaN</td>\n",
       "      <td>10816</td>\n",
       "      <td>5661</td>\n",
       "      <td>6571</td>\n",
       "      <td>NaN</td>\n",
       "      <td>NaN</td>\n",
       "      <td>NaN</td>\n",
       "      <td>NaN</td>\n",
       "      <td>NaN</td>\n",
       "      <td>NaN</td>\n",
       "    </tr>\n",
       "    <tr>\n",
       "      <th>mean</th>\n",
       "      <td>0.798375</td>\n",
       "      <td>NaN</td>\n",
       "      <td>NaN</td>\n",
       "      <td>NaN</td>\n",
       "      <td>61.745147</td>\n",
       "      <td>57.456080</td>\n",
       "      <td>5.729854</td>\n",
       "      <td>5.733569</td>\n",
       "      <td>3.538057</td>\n",
       "      <td>3939.518115</td>\n",
       "    </tr>\n",
       "    <tr>\n",
       "      <th>std</th>\n",
       "      <td>0.477745</td>\n",
       "      <td>NaN</td>\n",
       "      <td>NaN</td>\n",
       "      <td>NaN</td>\n",
       "      <td>1.412860</td>\n",
       "      <td>2.232068</td>\n",
       "      <td>1.128516</td>\n",
       "      <td>1.166058</td>\n",
       "      <td>0.720624</td>\n",
       "      <td>4024.864666</td>\n",
       "    </tr>\n",
       "    <tr>\n",
       "      <th>min</th>\n",
       "      <td>0.200000</td>\n",
       "      <td>NaN</td>\n",
       "      <td>NaN</td>\n",
       "      <td>NaN</td>\n",
       "      <td>50.800000</td>\n",
       "      <td>49.000000</td>\n",
       "      <td>0.000000</td>\n",
       "      <td>0.000000</td>\n",
       "      <td>0.000000</td>\n",
       "      <td>326.000000</td>\n",
       "    </tr>\n",
       "    <tr>\n",
       "      <th>25%</th>\n",
       "      <td>0.400000</td>\n",
       "      <td>NaN</td>\n",
       "      <td>NaN</td>\n",
       "      <td>NaN</td>\n",
       "      <td>61.000000</td>\n",
       "      <td>56.000000</td>\n",
       "      <td>4.710000</td>\n",
       "      <td>4.710000</td>\n",
       "      <td>2.900000</td>\n",
       "      <td>945.000000</td>\n",
       "    </tr>\n",
       "    <tr>\n",
       "      <th>50%</th>\n",
       "      <td>0.700000</td>\n",
       "      <td>NaN</td>\n",
       "      <td>NaN</td>\n",
       "      <td>NaN</td>\n",
       "      <td>61.800000</td>\n",
       "      <td>57.000000</td>\n",
       "      <td>5.690000</td>\n",
       "      <td>5.710000</td>\n",
       "      <td>3.520000</td>\n",
       "      <td>2375.000000</td>\n",
       "    </tr>\n",
       "    <tr>\n",
       "      <th>75%</th>\n",
       "      <td>1.050000</td>\n",
       "      <td>NaN</td>\n",
       "      <td>NaN</td>\n",
       "      <td>NaN</td>\n",
       "      <td>62.500000</td>\n",
       "      <td>59.000000</td>\n",
       "      <td>6.550000</td>\n",
       "      <td>6.540000</td>\n",
       "      <td>4.040000</td>\n",
       "      <td>5360.000000</td>\n",
       "    </tr>\n",
       "    <tr>\n",
       "      <th>max</th>\n",
       "      <td>4.500000</td>\n",
       "      <td>NaN</td>\n",
       "      <td>NaN</td>\n",
       "      <td>NaN</td>\n",
       "      <td>73.600000</td>\n",
       "      <td>79.000000</td>\n",
       "      <td>10.230000</td>\n",
       "      <td>58.900000</td>\n",
       "      <td>31.800000</td>\n",
       "      <td>18818.000000</td>\n",
       "    </tr>\n",
       "  </tbody>\n",
       "</table>\n",
       "</div>"
      ],
      "text/plain": [
       "               carat    cut  color clarity         depth         table  \\\n",
       "count   26967.000000  26967  26967   26967  26270.000000  26967.000000   \n",
       "unique           NaN      5      7       8           NaN           NaN   \n",
       "top              NaN  Ideal      G     SI1           NaN           NaN   \n",
       "freq             NaN  10816   5661    6571           NaN           NaN   \n",
       "mean        0.798375    NaN    NaN     NaN     61.745147     57.456080   \n",
       "std         0.477745    NaN    NaN     NaN      1.412860      2.232068   \n",
       "min         0.200000    NaN    NaN     NaN     50.800000     49.000000   \n",
       "25%         0.400000    NaN    NaN     NaN     61.000000     56.000000   \n",
       "50%         0.700000    NaN    NaN     NaN     61.800000     57.000000   \n",
       "75%         1.050000    NaN    NaN     NaN     62.500000     59.000000   \n",
       "max         4.500000    NaN    NaN     NaN     73.600000     79.000000   \n",
       "\n",
       "                   x             y             z         price  \n",
       "count   26967.000000  26967.000000  26967.000000  26967.000000  \n",
       "unique           NaN           NaN           NaN           NaN  \n",
       "top              NaN           NaN           NaN           NaN  \n",
       "freq             NaN           NaN           NaN           NaN  \n",
       "mean        5.729854      5.733569      3.538057   3939.518115  \n",
       "std         1.128516      1.166058      0.720624   4024.864666  \n",
       "min         0.000000      0.000000      0.000000    326.000000  \n",
       "25%         4.710000      4.710000      2.900000    945.000000  \n",
       "50%         5.690000      5.710000      3.520000   2375.000000  \n",
       "75%         6.550000      6.540000      4.040000   5360.000000  \n",
       "max        10.230000     58.900000     31.800000  18818.000000  "
      ]
     },
     "execution_count": 8,
     "metadata": {},
     "output_type": "execute_result"
    }
   ],
   "source": [
    "diamond.describe(include='all')"
   ]
  },
  {
   "cell_type": "code",
   "execution_count": 9,
   "metadata": {},
   "outputs": [
    {
     "data": {
      "text/html": [
       "<div>\n",
       "<style scoped>\n",
       "    .dataframe tbody tr th:only-of-type {\n",
       "        vertical-align: middle;\n",
       "    }\n",
       "\n",
       "    .dataframe tbody tr th {\n",
       "        vertical-align: top;\n",
       "    }\n",
       "\n",
       "    .dataframe thead th {\n",
       "        text-align: right;\n",
       "    }\n",
       "</style>\n",
       "<table border=\"1\" class=\"dataframe\">\n",
       "  <thead>\n",
       "    <tr style=\"text-align: right;\">\n",
       "      <th></th>\n",
       "      <th>carat</th>\n",
       "      <th>cut</th>\n",
       "      <th>color</th>\n",
       "      <th>clarity</th>\n",
       "      <th>depth</th>\n",
       "      <th>table</th>\n",
       "      <th>x</th>\n",
       "      <th>y</th>\n",
       "      <th>z</th>\n",
       "      <th>price</th>\n",
       "    </tr>\n",
       "  </thead>\n",
       "  <tbody>\n",
       "    <tr>\n",
       "      <th>0</th>\n",
       "      <td>0.3</td>\n",
       "      <td>Ideal</td>\n",
       "      <td>G</td>\n",
       "      <td>SI1</td>\n",
       "      <td>62.0</td>\n",
       "      <td>56.0</td>\n",
       "      <td>4.38</td>\n",
       "      <td>4.35</td>\n",
       "      <td>2.69</td>\n",
       "      <td>544</td>\n",
       "    </tr>\n",
       "  </tbody>\n",
       "</table>\n",
       "</div>"
      ],
      "text/plain": [
       "   carat    cut color clarity  depth  table     x     y     z  price\n",
       "0    0.3  Ideal     G     SI1   62.0   56.0  4.38  4.35  2.69    544"
      ]
     },
     "execution_count": 9,
     "metadata": {},
     "output_type": "execute_result"
    }
   ],
   "source": [
    "diamond.mode()"
   ]
  },
  {
   "cell_type": "code",
   "execution_count": 10,
   "metadata": {},
   "outputs": [
    {
     "name": "stdout",
     "output_type": "stream",
     "text": [
      "carat    2.282407e-01\n",
      "depth    1.996174e+00\n",
      "table    4.982127e+00\n",
      "x        1.273549e+00\n",
      "y        1.359690e+00\n",
      "z        5.192984e-01\n",
      "price    1.619954e+07\n",
      "dtype: float64\n"
     ]
    }
   ],
   "source": [
    "print(diamond.var())"
   ]
  },
  {
   "cell_type": "code",
   "execution_count": 11,
   "metadata": {},
   "outputs": [
    {
     "data": {
      "text/plain": [
       "carat       0.65\n",
       "depth       1.50\n",
       "table       3.00\n",
       "x           1.84\n",
       "y           1.83\n",
       "z           1.14\n",
       "price    4415.00\n",
       "dtype: float64"
      ]
     },
     "execution_count": 11,
     "metadata": {},
     "output_type": "execute_result"
    }
   ],
   "source": [
    "diamond.quantile(0.75) - diamond.quantile(0.25)"
   ]
  },
  {
   "cell_type": "code",
   "execution_count": 12,
   "metadata": {
    "scrolled": true
   },
   "outputs": [
    {
     "name": "stdout",
     "output_type": "stream",
     "text": [
      "carat    0.598397\n",
      "depth    0.022882\n",
      "table    0.038848\n",
      "x        0.196954\n",
      "y        0.203374\n",
      "z        0.203678\n",
      "price    1.021664\n",
      "dtype: float64\n"
     ]
    }
   ],
   "source": [
    "cv = diamond.std()/diamond.mean()\n",
    "print(cv)"
   ]
  },
  {
   "cell_type": "markdown",
   "metadata": {},
   "source": [
    "#### Shape of the Data"
   ]
  },
  {
   "cell_type": "code",
   "execution_count": 13,
   "metadata": {},
   "outputs": [
    {
     "data": {
      "text/plain": [
       "carat    1.116481\n",
       "depth   -0.028618\n",
       "table    0.765758\n",
       "x        0.387986\n",
       "y        3.850189\n",
       "z        2.568257\n",
       "price    1.618550\n",
       "dtype: float64"
      ]
     },
     "execution_count": 13,
     "metadata": {},
     "output_type": "execute_result"
    }
   ],
   "source": [
    "diamond.skew() "
   ]
  },
  {
   "cell_type": "markdown",
   "metadata": {},
   "source": [
    "#### Five Number Summary"
   ]
  },
  {
   "cell_type": "code",
   "execution_count": 14,
   "metadata": {},
   "outputs": [
    {
     "data": {
      "text/plain": [
       "<matplotlib.axes._subplots.AxesSubplot at 0x1f9381ce608>"
      ]
     },
     "execution_count": 14,
     "metadata": {},
     "output_type": "execute_result"
    },
    {
     "data": {
      "image/png": "[encoded data removed]",
      "text/plain": [
       "<Figure size 432x432 with 1 Axes>"
      ]
     },
     "metadata": {
      "needs_background": "light"
     },
     "output_type": "display_data"
    }
   ],
   "source": [
    "diamond.boxplot(column=\"carat\",figsize=(6,6))"
   ]
  },
  {
   "cell_type": "code",
   "execution_count": 15,
   "metadata": {},
   "outputs": [
    {
     "data": {
      "text/plain": [
       "<matplotlib.axes._subplots.AxesSubplot at 0x1f9385247c8>"
      ]
     },
     "execution_count": 15,
     "metadata": {},
     "output_type": "execute_result"
    },
    {
     "data": {
      "image/png": "[encoded data removed]",
      "text/plain": [
       "<Figure size 432x432 with 1 Axes>"
      ]
     },
     "metadata": {
      "needs_background": "light"
     },
     "output_type": "display_data"
    }
   ],
   "source": [
    "diamond.boxplot(column=\"depth\",figsize=(6,6))"
   ]
  },
  {
   "cell_type": "code",
   "execution_count": 16,
   "metadata": {},
   "outputs": [
    {
     "data": {
      "text/plain": [
       "<matplotlib.axes._subplots.AxesSubplot at 0x1f938284448>"
      ]
     },
     "execution_count": 16,
     "metadata": {},
     "output_type": "execute_result"
    },
    {
     "data": {
      "image/png": "[encoded data removed]",
      "text/plain": [
       "<Figure size 432x432 with 1 Axes>"
      ]
     },
     "metadata": {
      "needs_background": "light"
     },
     "output_type": "display_data"
    }
   ],
   "source": [
    "diamond.boxplot(column=\"table\",figsize=(6,6))"
   ]
  },
  {
   "cell_type": "code",
   "execution_count": 17,
   "metadata": {},
   "outputs": [
    {
     "data": {
      "text/plain": [
       "<matplotlib.axes._subplots.AxesSubplot at 0x1f937c3cfc8>"
      ]
     },
     "execution_count": 17,
     "metadata": {},
     "output_type": "execute_result"
    },
    {
     "data": {
      "image/png": "[encoded data removed]",
      "text/plain": [
       "<Figure size 432x432 with 1 Axes>"
      ]
     },
     "metadata": {
      "needs_background": "light"
     },
     "output_type": "display_data"
    }
   ],
   "source": [
    "diamond.boxplot(column=\"x\",figsize=(6,6))"
   ]
  },
  {
   "cell_type": "code",
   "execution_count": 18,
   "metadata": {},
   "outputs": [
    {
     "data": {
      "text/plain": [
       "<matplotlib.axes._subplots.AxesSubplot at 0x1f93800df08>"
      ]
     },
     "execution_count": 18,
     "metadata": {},
     "output_type": "execute_result"
    },
    {
     "data": {
      "image/png": "[encoded data removed]",
      "text/plain": [
       "<Figure size 432x432 with 1 Axes>"
      ]
     },
     "metadata": {
      "needs_background": "light"
     },
     "output_type": "display_data"
    }
   ],
   "source": [
    "diamond.boxplot(column=\"y\",figsize=(6,6))"
   ]
  },
  {
   "cell_type": "code",
   "execution_count": 19,
   "metadata": {},
   "outputs": [
    {
     "data": {
      "text/plain": [
       "<matplotlib.axes._subplots.AxesSubplot at 0x1f9380dcf08>"
      ]
     },
     "execution_count": 19,
     "metadata": {},
     "output_type": "execute_result"
    },
    {
     "data": {
      "image/png": "[encoded data removed]",
      "text/plain": [
       "<Figure size 432x432 with 1 Axes>"
      ]
     },
     "metadata": {
      "needs_background": "light"
     },
     "output_type": "display_data"
    }
   ],
   "source": [
    "diamond.boxplot(column=\"z\",figsize=(6,6))"
   ]
  },
  {
   "cell_type": "code",
   "execution_count": 20,
   "metadata": {},
   "outputs": [
    {
     "data": {
      "text/plain": [
       "<matplotlib.axes._subplots.AxesSubplot at 0x1f938190d88>"
      ]
     },
     "execution_count": 20,
     "metadata": {},
     "output_type": "execute_result"
    },
    {
     "data": {
      "image/png": "[encoded data removed]",
      "text/plain": [
       "<Figure size 432x432 with 1 Axes>"
      ]
     },
     "metadata": {
      "needs_background": "light"
     },
     "output_type": "display_data"
    }
   ],
   "source": [
    "diamond.boxplot(column=\"price\",figsize=(6,6))"
   ]
  },
  {
   "cell_type": "markdown",
   "metadata": {},
   "source": [
    "#### Covariance & Correlation of the Data"
   ]
  },
  {
   "cell_type": "code",
   "execution_count": 21,
   "metadata": {},
   "outputs": [
    {
     "data": {
      "text/html": [
       "<div>\n",
       "<style scoped>\n",
       "    .dataframe tbody tr th:only-of-type {\n",
       "        vertical-align: middle;\n",
       "    }\n",
       "\n",
       "    .dataframe tbody tr th {\n",
       "        vertical-align: top;\n",
       "    }\n",
       "\n",
       "    .dataframe thead th {\n",
       "        text-align: right;\n",
       "    }\n",
       "</style>\n",
       "<table border=\"1\" class=\"dataframe\">\n",
       "  <thead>\n",
       "    <tr style=\"text-align: right;\">\n",
       "      <th></th>\n",
       "      <th>carat</th>\n",
       "      <th>depth</th>\n",
       "      <th>table</th>\n",
       "      <th>x</th>\n",
       "      <th>y</th>\n",
       "      <th>z</th>\n",
       "      <th>price</th>\n",
       "    </tr>\n",
       "  </thead>\n",
       "  <tbody>\n",
       "    <tr>\n",
       "      <th>carat</th>\n",
       "      <td>0.228241</td>\n",
       "      <td>0.023844</td>\n",
       "      <td>0.193742</td>\n",
       "      <td>0.526403</td>\n",
       "      <td>0.524250</td>\n",
       "      <td>0.323839</td>\n",
       "      <td>1.773678e+03</td>\n",
       "    </tr>\n",
       "    <tr>\n",
       "      <th>depth</th>\n",
       "      <td>0.023844</td>\n",
       "      <td>1.996174</td>\n",
       "      <td>-0.939265</td>\n",
       "      <td>-0.029813</td>\n",
       "      <td>-0.040760</td>\n",
       "      <td>0.100411</td>\n",
       "      <td>-1.459691e+01</td>\n",
       "    </tr>\n",
       "    <tr>\n",
       "      <th>table</th>\n",
       "      <td>0.193742</td>\n",
       "      <td>-0.939265</td>\n",
       "      <td>4.982127</td>\n",
       "      <td>0.494228</td>\n",
       "      <td>0.474596</td>\n",
       "      <td>0.239574</td>\n",
       "      <td>1.140420e+03</td>\n",
       "    </tr>\n",
       "    <tr>\n",
       "      <th>x</th>\n",
       "      <td>0.526403</td>\n",
       "      <td>-0.029813</td>\n",
       "      <td>0.494228</td>\n",
       "      <td>1.273549</td>\n",
       "      <td>1.266851</td>\n",
       "      <td>0.777946</td>\n",
       "      <td>4.025446e+03</td>\n",
       "    </tr>\n",
       "    <tr>\n",
       "      <th>y</th>\n",
       "      <td>0.524250</td>\n",
       "      <td>-0.040760</td>\n",
       "      <td>0.474596</td>\n",
       "      <td>1.266851</td>\n",
       "      <td>1.359690</td>\n",
       "      <td>0.780563</td>\n",
       "      <td>4.018538e+03</td>\n",
       "    </tr>\n",
       "    <tr>\n",
       "      <th>z</th>\n",
       "      <td>0.323839</td>\n",
       "      <td>0.100411</td>\n",
       "      <td>0.239574</td>\n",
       "      <td>0.777946</td>\n",
       "      <td>0.780563</td>\n",
       "      <td>0.519298</td>\n",
       "      <td>2.466906e+03</td>\n",
       "    </tr>\n",
       "    <tr>\n",
       "      <th>price</th>\n",
       "      <td>1773.677848</td>\n",
       "      <td>-14.596911</td>\n",
       "      <td>1140.419986</td>\n",
       "      <td>4025.446081</td>\n",
       "      <td>4018.537829</td>\n",
       "      <td>2466.905683</td>\n",
       "      <td>1.619954e+07</td>\n",
       "    </tr>\n",
       "  </tbody>\n",
       "</table>\n",
       "</div>"
      ],
      "text/plain": [
       "             carat      depth        table            x            y  \\\n",
       "carat     0.228241   0.023844     0.193742     0.526403     0.524250   \n",
       "depth     0.023844   1.996174    -0.939265    -0.029813    -0.040760   \n",
       "table     0.193742  -0.939265     4.982127     0.494228     0.474596   \n",
       "x         0.526403  -0.029813     0.494228     1.273549     1.266851   \n",
       "y         0.524250  -0.040760     0.474596     1.266851     1.359690   \n",
       "z         0.323839   0.100411     0.239574     0.777946     0.780563   \n",
       "price  1773.677848 -14.596911  1140.419986  4025.446081  4018.537829   \n",
       "\n",
       "                 z         price  \n",
       "carat     0.323839  1.773678e+03  \n",
       "depth     0.100411 -1.459691e+01  \n",
       "table     0.239574  1.140420e+03  \n",
       "x         0.777946  4.025446e+03  \n",
       "y         0.780563  4.018538e+03  \n",
       "z         0.519298  2.466906e+03  \n",
       "price  2466.905683  1.619954e+07  "
      ]
     },
     "execution_count": 21,
     "metadata": {},
     "output_type": "execute_result"
    }
   ],
   "source": [
    "diamond.cov()"
   ]
  },
  {
   "cell_type": "code",
   "execution_count": 22,
   "metadata": {},
   "outputs": [
    {
     "data": {
      "text/html": [
       "<div>\n",
       "<style scoped>\n",
       "    .dataframe tbody tr th:only-of-type {\n",
       "        vertical-align: middle;\n",
       "    }\n",
       "\n",
       "    .dataframe tbody tr th {\n",
       "        vertical-align: top;\n",
       "    }\n",
       "\n",
       "    .dataframe thead th {\n",
       "        text-align: right;\n",
       "    }\n",
       "</style>\n",
       "<table border=\"1\" class=\"dataframe\">\n",
       "  <thead>\n",
       "    <tr style=\"text-align: right;\">\n",
       "      <th></th>\n",
       "      <th>carat</th>\n",
       "      <th>depth</th>\n",
       "      <th>table</th>\n",
       "      <th>x</th>\n",
       "      <th>y</th>\n",
       "      <th>z</th>\n",
       "      <th>price</th>\n",
       "    </tr>\n",
       "  </thead>\n",
       "  <tbody>\n",
       "    <tr>\n",
       "      <th>carat</th>\n",
       "      <td>1.000000</td>\n",
       "      <td>0.035364</td>\n",
       "      <td>0.181685</td>\n",
       "      <td>0.976368</td>\n",
       "      <td>0.941071</td>\n",
       "      <td>0.940640</td>\n",
       "      <td>0.922416</td>\n",
       "    </tr>\n",
       "    <tr>\n",
       "      <th>depth</th>\n",
       "      <td>0.035364</td>\n",
       "      <td>1.000000</td>\n",
       "      <td>-0.298011</td>\n",
       "      <td>-0.018715</td>\n",
       "      <td>-0.024735</td>\n",
       "      <td>0.101624</td>\n",
       "      <td>-0.002569</td>\n",
       "    </tr>\n",
       "    <tr>\n",
       "      <th>table</th>\n",
       "      <td>0.181685</td>\n",
       "      <td>-0.298011</td>\n",
       "      <td>1.000000</td>\n",
       "      <td>0.196206</td>\n",
       "      <td>0.182346</td>\n",
       "      <td>0.148944</td>\n",
       "      <td>0.126942</td>\n",
       "    </tr>\n",
       "    <tr>\n",
       "      <th>x</th>\n",
       "      <td>0.976368</td>\n",
       "      <td>-0.018715</td>\n",
       "      <td>0.196206</td>\n",
       "      <td>1.000000</td>\n",
       "      <td>0.962715</td>\n",
       "      <td>0.956606</td>\n",
       "      <td>0.886247</td>\n",
       "    </tr>\n",
       "    <tr>\n",
       "      <th>y</th>\n",
       "      <td>0.941071</td>\n",
       "      <td>-0.024735</td>\n",
       "      <td>0.182346</td>\n",
       "      <td>0.962715</td>\n",
       "      <td>1.000000</td>\n",
       "      <td>0.928923</td>\n",
       "      <td>0.856243</td>\n",
       "    </tr>\n",
       "    <tr>\n",
       "      <th>z</th>\n",
       "      <td>0.940640</td>\n",
       "      <td>0.101624</td>\n",
       "      <td>0.148944</td>\n",
       "      <td>0.956606</td>\n",
       "      <td>0.928923</td>\n",
       "      <td>1.000000</td>\n",
       "      <td>0.850536</td>\n",
       "    </tr>\n",
       "    <tr>\n",
       "      <th>price</th>\n",
       "      <td>0.922416</td>\n",
       "      <td>-0.002569</td>\n",
       "      <td>0.126942</td>\n",
       "      <td>0.886247</td>\n",
       "      <td>0.856243</td>\n",
       "      <td>0.850536</td>\n",
       "      <td>1.000000</td>\n",
       "    </tr>\n",
       "  </tbody>\n",
       "</table>\n",
       "</div>"
      ],
      "text/plain": [
       "          carat     depth     table         x         y         z     price\n",
       "carat  1.000000  0.035364  0.181685  0.976368  0.941071  0.940640  0.922416\n",
       "depth  0.035364  1.000000 -0.298011 -0.018715 -0.024735  0.101624 -0.002569\n",
       "table  0.181685 -0.298011  1.000000  0.196206  0.182346  0.148944  0.126942\n",
       "x      0.976368 -0.018715  0.196206  1.000000  0.962715  0.956606  0.886247\n",
       "y      0.941071 -0.024735  0.182346  0.962715  1.000000  0.928923  0.856243\n",
       "z      0.940640  0.101624  0.148944  0.956606  0.928923  1.000000  0.850536\n",
       "price  0.922416 -0.002569  0.126942  0.886247  0.856243  0.850536  1.000000"
      ]
     },
     "execution_count": 22,
     "metadata": {},
     "output_type": "execute_result"
    }
   ],
   "source": [
    "diamond.corr()"
   ]
  },
  {
   "cell_type": "code",
   "execution_count": 23,
   "metadata": {},
   "outputs": [
    {
     "data": {
      "image/png": "[encoded data removed]",
      "text/plain": [
       "<Figure size 720x504 with 2 Axes>"
      ]
     },
     "metadata": {
      "needs_background": "light"
     },
     "output_type": "display_data"
    }
   ],
   "source": [
    "fig,ax = plt.subplots(figsize=(10,7))   \n",
    "sns.heatmap(diamond.corr(), ax=ax, annot=True, linewidths=0.05, fmt= '.2f',cmap=\"magma\") \n",
    "plt.show()"
   ]
  },
  {
   "cell_type": "markdown",
   "metadata": {},
   "source": [
    "### 1.2 Impute null values if present, also check for the values which are equal to zero. Do they have any meaning, or do we need to change them or drop them? Do you think scaling is necessary in this case?"
   ]
  },
  {
   "cell_type": "code",
   "execution_count": 24,
   "metadata": {},
   "outputs": [],
   "source": [
    "diamond.fillna(diamond.median(), inplace=True)"
   ]
  },
  {
   "cell_type": "code",
   "execution_count": 25,
   "metadata": {},
   "outputs": [
    {
     "name": "stdout",
     "output_type": "stream",
     "text": [
      "carat      0\n",
      "cut        0\n",
      "color      0\n",
      "clarity    0\n",
      "depth      0\n",
      "table      0\n",
      "x          0\n",
      "y          0\n",
      "z          0\n",
      "price      0\n",
      "dtype: int64\n"
     ]
    }
   ],
   "source": [
    "print(diamond.isnull().sum())"
   ]
  },
  {
   "cell_type": "code",
   "execution_count": 26,
   "metadata": {},
   "outputs": [
    {
     "name": "stdout",
     "output_type": "stream",
     "text": [
      "Number of duplicate rows = 34\n"
     ]
    }
   ],
   "source": [
    "dups = diamond.duplicated()\n",
    "print('Number of duplicate rows = %d' % (dups.sum()))"
   ]
  },
  {
   "cell_type": "code",
   "execution_count": 27,
   "metadata": {},
   "outputs": [],
   "source": [
    "diamond.drop_duplicates(inplace=True)"
   ]
  },
  {
   "cell_type": "code",
   "execution_count": 28,
   "metadata": {
    "scrolled": false
   },
   "outputs": [
    {
     "name": "stdout",
     "output_type": "stream",
     "text": [
      "[]\n",
      "[]\n",
      "[]\n",
      "[5821, 17506]\n",
      "[5821, 17506]\n",
      "[5821, 6034, 10827, 12498, 12689, 17506, 18194, 23758]\n",
      "[]\n"
     ]
    }
   ],
   "source": [
    "print(diamond[diamond['carat']==0].index.tolist())\n",
    "print(diamond[diamond['depth']==0].index.tolist())\n",
    "print(diamond[diamond['table']==0].index.tolist())\n",
    "print(diamond[diamond['x']==0].index.tolist())\n",
    "print(diamond[diamond['y']==0].index.tolist())\n",
    "print(diamond[diamond['z']==0].index.tolist())\n",
    "print(diamond[diamond['price']==0].index.tolist())"
   ]
  },
  {
   "cell_type": "code",
   "execution_count": 29,
   "metadata": {},
   "outputs": [
    {
     "name": "stdout",
     "output_type": "stream",
     "text": [
      "carat    0\n",
      "depth    0\n",
      "table    0\n",
      "x        2\n",
      "y        2\n",
      "z        8\n",
      "price    0\n",
      "dtype: int64\n"
     ]
    }
   ],
   "source": [
    "num_missing = (diamond[['carat','depth','table','x','y','z','price']] == 0).sum()\n",
    "print(num_missing)"
   ]
  },
  {
   "cell_type": "code",
   "execution_count": 30,
   "metadata": {},
   "outputs": [
    {
     "data": {
      "text/html": [
       "<div>\n",
       "<style scoped>\n",
       "    .dataframe tbody tr th:only-of-type {\n",
       "        vertical-align: middle;\n",
       "    }\n",
       "\n",
       "    .dataframe tbody tr th {\n",
       "        vertical-align: top;\n",
       "    }\n",
       "\n",
       "    .dataframe thead th {\n",
       "        text-align: right;\n",
       "    }\n",
       "</style>\n",
       "<table border=\"1\" class=\"dataframe\">\n",
       "  <thead>\n",
       "    <tr style=\"text-align: right;\">\n",
       "      <th></th>\n",
       "      <th>carat</th>\n",
       "      <th>depth</th>\n",
       "      <th>table</th>\n",
       "      <th>x</th>\n",
       "      <th>y</th>\n",
       "      <th>z</th>\n",
       "      <th>price</th>\n",
       "    </tr>\n",
       "  </thead>\n",
       "  <tbody>\n",
       "    <tr>\n",
       "      <th>0</th>\n",
       "      <td>False</td>\n",
       "      <td>False</td>\n",
       "      <td>False</td>\n",
       "      <td>False</td>\n",
       "      <td>False</td>\n",
       "      <td>False</td>\n",
       "      <td>False</td>\n",
       "    </tr>\n",
       "    <tr>\n",
       "      <th>1</th>\n",
       "      <td>False</td>\n",
       "      <td>False</td>\n",
       "      <td>False</td>\n",
       "      <td>False</td>\n",
       "      <td>False</td>\n",
       "      <td>False</td>\n",
       "      <td>False</td>\n",
       "    </tr>\n",
       "    <tr>\n",
       "      <th>2</th>\n",
       "      <td>False</td>\n",
       "      <td>False</td>\n",
       "      <td>False</td>\n",
       "      <td>False</td>\n",
       "      <td>False</td>\n",
       "      <td>False</td>\n",
       "      <td>False</td>\n",
       "    </tr>\n",
       "    <tr>\n",
       "      <th>3</th>\n",
       "      <td>False</td>\n",
       "      <td>False</td>\n",
       "      <td>False</td>\n",
       "      <td>False</td>\n",
       "      <td>False</td>\n",
       "      <td>False</td>\n",
       "      <td>False</td>\n",
       "    </tr>\n",
       "    <tr>\n",
       "      <th>4</th>\n",
       "      <td>False</td>\n",
       "      <td>False</td>\n",
       "      <td>False</td>\n",
       "      <td>False</td>\n",
       "      <td>False</td>\n",
       "      <td>False</td>\n",
       "      <td>False</td>\n",
       "    </tr>\n",
       "    <tr>\n",
       "      <th>...</th>\n",
       "      <td>...</td>\n",
       "      <td>...</td>\n",
       "      <td>...</td>\n",
       "      <td>...</td>\n",
       "      <td>...</td>\n",
       "      <td>...</td>\n",
       "      <td>...</td>\n",
       "    </tr>\n",
       "    <tr>\n",
       "      <th>26962</th>\n",
       "      <td>False</td>\n",
       "      <td>False</td>\n",
       "      <td>False</td>\n",
       "      <td>False</td>\n",
       "      <td>False</td>\n",
       "      <td>False</td>\n",
       "      <td>False</td>\n",
       "    </tr>\n",
       "    <tr>\n",
       "      <th>26963</th>\n",
       "      <td>False</td>\n",
       "      <td>False</td>\n",
       "      <td>False</td>\n",
       "      <td>False</td>\n",
       "      <td>False</td>\n",
       "      <td>False</td>\n",
       "      <td>False</td>\n",
       "    </tr>\n",
       "    <tr>\n",
       "      <th>26964</th>\n",
       "      <td>False</td>\n",
       "      <td>False</td>\n",
       "      <td>False</td>\n",
       "      <td>False</td>\n",
       "      <td>False</td>\n",
       "      <td>False</td>\n",
       "      <td>False</td>\n",
       "    </tr>\n",
       "    <tr>\n",
       "      <th>26965</th>\n",
       "      <td>False</td>\n",
       "      <td>False</td>\n",
       "      <td>False</td>\n",
       "      <td>False</td>\n",
       "      <td>False</td>\n",
       "      <td>False</td>\n",
       "      <td>False</td>\n",
       "    </tr>\n",
       "    <tr>\n",
       "      <th>26966</th>\n",
       "      <td>False</td>\n",
       "      <td>False</td>\n",
       "      <td>False</td>\n",
       "      <td>False</td>\n",
       "      <td>False</td>\n",
       "      <td>False</td>\n",
       "      <td>False</td>\n",
       "    </tr>\n",
       "  </tbody>\n",
       "</table>\n",
       "<p>26933 rows × 7 columns</p>\n",
       "</div>"
      ],
      "text/plain": [
       "       carat  depth  table      x      y      z  price\n",
       "0      False  False  False  False  False  False  False\n",
       "1      False  False  False  False  False  False  False\n",
       "2      False  False  False  False  False  False  False\n",
       "3      False  False  False  False  False  False  False\n",
       "4      False  False  False  False  False  False  False\n",
       "...      ...    ...    ...    ...    ...    ...    ...\n",
       "26962  False  False  False  False  False  False  False\n",
       "26963  False  False  False  False  False  False  False\n",
       "26964  False  False  False  False  False  False  False\n",
       "26965  False  False  False  False  False  False  False\n",
       "26966  False  False  False  False  False  False  False\n",
       "\n",
       "[26933 rows x 7 columns]"
      ]
     },
     "execution_count": 30,
     "metadata": {},
     "output_type": "execute_result"
    }
   ],
   "source": [
    "diamond[['carat','depth','table','x','y','z','price']] == 0"
   ]
  },
  {
   "cell_type": "code",
   "execution_count": 31,
   "metadata": {},
   "outputs": [],
   "source": [
    "diamond = diamond.replace(0, np.nan)"
   ]
  },
  {
   "cell_type": "code",
   "execution_count": 32,
   "metadata": {},
   "outputs": [
    {
     "name": "stdout",
     "output_type": "stream",
     "text": [
      "(26925, 10)\n"
     ]
    }
   ],
   "source": [
    "# drop rows with missing values\n",
    "diamond.dropna(inplace=True)\n",
    "# summarize the shape of the data with missing rows removed\n",
    "print(diamond.shape)"
   ]
  },
  {
   "cell_type": "code",
   "execution_count": 33,
   "metadata": {
    "scrolled": true
   },
   "outputs": [
    {
     "name": "stdout",
     "output_type": "stream",
     "text": [
      "<class 'pandas.core.frame.DataFrame'>\n",
      "Int64Index: 26925 entries, 0 to 26966\n",
      "Data columns (total 10 columns):\n",
      " #   Column   Non-Null Count  Dtype  \n",
      "---  ------   --------------  -----  \n",
      " 0   carat    26925 non-null  float64\n",
      " 1   cut      26925 non-null  object \n",
      " 2   color    26925 non-null  object \n",
      " 3   clarity  26925 non-null  object \n",
      " 4   depth    26925 non-null  float64\n",
      " 5   table    26925 non-null  float64\n",
      " 6   x        26925 non-null  float64\n",
      " 7   y        26925 non-null  float64\n",
      " 8   z        26925 non-null  float64\n",
      " 9   price    26925 non-null  int64  \n",
      "dtypes: float64(6), int64(1), object(3)\n",
      "memory usage: 2.3+ MB\n"
     ]
    }
   ],
   "source": [
    "diamond.info()"
   ]
  },
  {
   "cell_type": "code",
   "execution_count": 34,
   "metadata": {},
   "outputs": [],
   "source": [
    "def remove_outlier(col):\n",
    "    sorted(col)\n",
    "    Q1,Q3=col.quantile([0.25,0.75])\n",
    "    IQR=Q3-Q1\n",
    "    lower_range= Q1-(1.5 * IQR)\n",
    "    upper_range= Q3+(1.5 * IQR)\n",
    "    return lower_range, upper_range    "
   ]
  },
  {
   "cell_type": "code",
   "execution_count": 35,
   "metadata": {},
   "outputs": [],
   "source": [
    "dtypes_1=diamond.dtypes[(diamond.dtypes!='uint8') & (diamond.dtypes!='bool') & (diamond.dtypes!= 'object')].index\n",
    "for column in diamond[dtypes_1].columns:\n",
    "    lr,ur=remove_outlier(diamond[column])\n",
    "    diamond[column]=np.where(diamond[column]>ur,ur,diamond[column])\n",
    "    diamond[column]=np.where(diamond[column]<lr,lr,diamond[column])"
   ]
  },
  {
   "cell_type": "markdown",
   "metadata": {},
   "source": [
    "### 1.3 Encode the data (having string values) for Modelling. Data Split: Split the data into test and train (70:30). Apply Linear regression. Performance Metrics: Check the performance of Predictions on Train and Test sets using Rsquare, RMSE."
   ]
  },
  {
   "cell_type": "code",
   "execution_count": 36,
   "metadata": {},
   "outputs": [],
   "source": [
    "diamond['cut']=np.where(diamond['cut'] =='Fair', '0', diamond['cut'])\n",
    "diamond['cut']=np.where(diamond['cut'] =='Good', '1', diamond['cut'])\n",
    "diamond['cut']=np.where(diamond['cut'] =='Very Good', '2', diamond['cut'])\n",
    "diamond['cut']=np.where(diamond['cut'] =='Premium', '3', diamond['cut'])\n",
    "diamond['cut']=np.where(diamond['cut'] =='Ideal', '4', diamond['cut'])"
   ]
  },
  {
   "cell_type": "code",
   "execution_count": 37,
   "metadata": {},
   "outputs": [],
   "source": [
    "diamond['color']=np.where(diamond['color'] =='J', '0', diamond['color'])\n",
    "diamond['color']=np.where(diamond['color'] =='I', '1', diamond['color'])\n",
    "diamond['color']=np.where(diamond['color'] =='H', '2', diamond['color'])\n",
    "diamond['color']=np.where(diamond['color'] =='G', '3', diamond['color'])\n",
    "diamond['color']=np.where(diamond['color'] =='F', '4', diamond['color'])\n",
    "diamond['color']=np.where(diamond['color'] =='E', '5', diamond['color'])\n",
    "diamond['color']=np.where(diamond['color'] =='D', '6', diamond['color'])"
   ]
  },
  {
   "cell_type": "code",
   "execution_count": 38,
   "metadata": {},
   "outputs": [],
   "source": [
    "diamond['clarity']=np.where(diamond['clarity'] =='I3', '0', diamond['clarity'])\n",
    "diamond['clarity']=np.where(diamond['clarity'] =='I2', '1', diamond['clarity'])\n",
    "diamond['clarity']=np.where(diamond['clarity'] =='I1', '2', diamond['clarity'])\n",
    "diamond['clarity']=np.where(diamond['clarity'] =='SI2', '3', diamond['clarity'])\n",
    "diamond['clarity']=np.where(diamond['clarity'] =='SI1', '4', diamond['clarity'])\n",
    "diamond['clarity']=np.where(diamond['clarity'] =='VS2', '5', diamond['clarity'])\n",
    "diamond['clarity']=np.where(diamond['clarity'] =='VS1', '6', diamond['clarity'])\n",
    "diamond['clarity']=np.where(diamond['clarity'] =='VVS2', '7', diamond['clarity'])\n",
    "diamond['clarity']=np.where(diamond['clarity'] =='VVS1', '8', diamond['clarity'])\n",
    "diamond['clarity']=np.where(diamond['clarity'] =='IF', '9', diamond['clarity'])\n",
    "diamond['clarity']=np.where(diamond['clarity'] =='FL', '10', diamond['clarity'])"
   ]
  },
  {
   "cell_type": "code",
   "execution_count": 39,
   "metadata": {},
   "outputs": [],
   "source": [
    "diamond['cut'] = diamond['cut'].astype('int64')\n",
    "diamond['color'] = diamond['color'].astype('int64')\n",
    "diamond['clarity'] = diamond['clarity'].astype('int64')"
   ]
  },
  {
   "cell_type": "code",
   "execution_count": 40,
   "metadata": {},
   "outputs": [
    {
     "data": {
      "text/plain": [
       "carat      float64\n",
       "cut          int64\n",
       "color        int64\n",
       "clarity      int64\n",
       "depth      float64\n",
       "table      float64\n",
       "x          float64\n",
       "y          float64\n",
       "z          float64\n",
       "price      float64\n",
       "dtype: object"
      ]
     },
     "execution_count": 40,
     "metadata": {},
     "output_type": "execute_result"
    }
   ],
   "source": [
    "diamond.dtypes"
   ]
  },
  {
   "cell_type": "code",
   "execution_count": 41,
   "metadata": {},
   "outputs": [
    {
     "data": {
      "text/html": [
       "<div>\n",
       "<style scoped>\n",
       "    .dataframe tbody tr th:only-of-type {\n",
       "        vertical-align: middle;\n",
       "    }\n",
       "\n",
       "    .dataframe tbody tr th {\n",
       "        vertical-align: top;\n",
       "    }\n",
       "\n",
       "    .dataframe thead th {\n",
       "        text-align: right;\n",
       "    }\n",
       "</style>\n",
       "<table border=\"1\" class=\"dataframe\">\n",
       "  <thead>\n",
       "    <tr style=\"text-align: right;\">\n",
       "      <th></th>\n",
       "      <th>carat</th>\n",
       "      <th>cut</th>\n",
       "      <th>color</th>\n",
       "      <th>clarity</th>\n",
       "      <th>depth</th>\n",
       "      <th>table</th>\n",
       "      <th>x</th>\n",
       "      <th>y</th>\n",
       "      <th>z</th>\n",
       "      <th>price</th>\n",
       "    </tr>\n",
       "  </thead>\n",
       "  <tbody>\n",
       "    <tr>\n",
       "      <th>0</th>\n",
       "      <td>-1.067382</td>\n",
       "      <td>0.979367</td>\n",
       "      <td>0.940777</td>\n",
       "      <td>-0.640136</td>\n",
       "      <td>0.286766</td>\n",
       "      <td>0.261968</td>\n",
       "      <td>-1.296530</td>\n",
       "      <td>-1.289659</td>\n",
       "      <td>-1.261558</td>\n",
       "      <td>-0.933395</td>\n",
       "    </tr>\n",
       "    <tr>\n",
       "      <th>1</th>\n",
       "      <td>-1.002446</td>\n",
       "      <td>0.080980</td>\n",
       "      <td>-0.231548</td>\n",
       "      <td>2.396449</td>\n",
       "      <td>-0.780365</td>\n",
       "      <td>0.261968</td>\n",
       "      <td>-1.163253</td>\n",
       "      <td>-1.137530</td>\n",
       "      <td>-1.204060</td>\n",
       "      <td>-0.793477</td>\n",
       "    </tr>\n",
       "    <tr>\n",
       "      <th>2</th>\n",
       "      <td>0.231349</td>\n",
       "      <td>-0.817407</td>\n",
       "      <td>0.940777</td>\n",
       "      <td>1.181815</td>\n",
       "      <td>0.368853</td>\n",
       "      <td>1.189326</td>\n",
       "      <td>0.276134</td>\n",
       "      <td>0.347964</td>\n",
       "      <td>0.348406</td>\n",
       "      <td>0.736960</td>\n",
       "    </tr>\n",
       "    <tr>\n",
       "      <th>3</th>\n",
       "      <td>-0.807636</td>\n",
       "      <td>0.979367</td>\n",
       "      <td>0.354615</td>\n",
       "      <td>0.574498</td>\n",
       "      <td>-0.123669</td>\n",
       "      <td>-0.665390</td>\n",
       "      <td>-0.807849</td>\n",
       "      <td>-0.833272</td>\n",
       "      <td>-0.830318</td>\n",
       "      <td>-0.765205</td>\n",
       "    </tr>\n",
       "    <tr>\n",
       "      <th>4</th>\n",
       "      <td>-1.045737</td>\n",
       "      <td>0.979367</td>\n",
       "      <td>0.354615</td>\n",
       "      <td>1.789132</td>\n",
       "      <td>-1.108713</td>\n",
       "      <td>0.725647</td>\n",
       "      <td>-1.225449</td>\n",
       "      <td>-1.164377</td>\n",
       "      <td>-1.275933</td>\n",
       "      <td>-0.852618</td>\n",
       "    </tr>\n",
       "  </tbody>\n",
       "</table>\n",
       "</div>"
      ],
      "text/plain": [
       "      carat       cut     color   clarity     depth     table         x  \\\n",
       "0 -1.067382  0.979367  0.940777 -0.640136  0.286766  0.261968 -1.296530   \n",
       "1 -1.002446  0.080980 -0.231548  2.396449 -0.780365  0.261968 -1.163253   \n",
       "2  0.231349 -0.817407  0.940777  1.181815  0.368853  1.189326  0.276134   \n",
       "3 -0.807636  0.979367  0.354615  0.574498 -0.123669 -0.665390 -0.807849   \n",
       "4 -1.045737  0.979367  0.354615  1.789132 -1.108713  0.725647 -1.225449   \n",
       "\n",
       "          y         z     price  \n",
       "0 -1.289659 -1.261558 -0.933395  \n",
       "1 -1.137530 -1.204060 -0.793477  \n",
       "2  0.347964  0.348406  0.736960  \n",
       "3 -0.833272 -0.830318 -0.765205  \n",
       "4 -1.164377 -1.275933 -0.852618  "
      ]
     },
     "execution_count": 41,
     "metadata": {},
     "output_type": "execute_result"
    }
   ],
   "source": [
    "diamond_z = diamond.apply(zscore)\n",
    "diamond_z.head()"
   ]
  },
  {
   "cell_type": "code",
   "execution_count": 42,
   "metadata": {},
   "outputs": [],
   "source": [
    "X = diamond_z.drop('price', axis=1)\n",
    "\n",
    "# Copy target into the y dataframe. \n",
    "Y = diamond_z[['price']]"
   ]
  },
  {
   "cell_type": "code",
   "execution_count": 43,
   "metadata": {},
   "outputs": [],
   "source": [
    "X_train, X_test, Y_train, Y_test = train_test_split(X, Y, test_size=0.30 , random_state=1)"
   ]
  },
  {
   "cell_type": "code",
   "execution_count": 44,
   "metadata": {},
   "outputs": [
    {
     "data": {
      "text/plain": [
       "(8078, 9)"
      ]
     },
     "execution_count": 44,
     "metadata": {},
     "output_type": "execute_result"
    }
   ],
   "source": [
    "X_test.shape"
   ]
  },
  {
   "cell_type": "code",
   "execution_count": 45,
   "metadata": {},
   "outputs": [
    {
     "data": {
      "text/html": [
       "<div>\n",
       "<style scoped>\n",
       "    .dataframe tbody tr th:only-of-type {\n",
       "        vertical-align: middle;\n",
       "    }\n",
       "\n",
       "    .dataframe tbody tr th {\n",
       "        vertical-align: top;\n",
       "    }\n",
       "\n",
       "    .dataframe thead th {\n",
       "        text-align: right;\n",
       "    }\n",
       "</style>\n",
       "<table border=\"1\" class=\"dataframe\">\n",
       "  <thead>\n",
       "    <tr style=\"text-align: right;\">\n",
       "      <th></th>\n",
       "      <th>carat</th>\n",
       "      <th>cut</th>\n",
       "      <th>color</th>\n",
       "      <th>clarity</th>\n",
       "      <th>depth</th>\n",
       "      <th>table</th>\n",
       "      <th>x</th>\n",
       "      <th>y</th>\n",
       "      <th>z</th>\n",
       "      <th>price</th>\n",
       "    </tr>\n",
       "  </thead>\n",
       "  <tbody>\n",
       "    <tr>\n",
       "      <th>5030</th>\n",
       "      <td>0.664259</td>\n",
       "      <td>-1.715794</td>\n",
       "      <td>0.940777</td>\n",
       "      <td>-1.247452</td>\n",
       "      <td>1.271811</td>\n",
       "      <td>-0.665390</td>\n",
       "      <td>0.711505</td>\n",
       "      <td>0.759608</td>\n",
       "      <td>0.880269</td>\n",
       "      <td>0.095359</td>\n",
       "    </tr>\n",
       "    <tr>\n",
       "      <th>12108</th>\n",
       "      <td>0.469450</td>\n",
       "      <td>-0.817407</td>\n",
       "      <td>1.526940</td>\n",
       "      <td>-1.247452</td>\n",
       "      <td>1.846420</td>\n",
       "      <td>-0.665390</td>\n",
       "      <td>0.507147</td>\n",
       "      <td>0.580632</td>\n",
       "      <td>0.750897</td>\n",
       "      <td>0.412986</td>\n",
       "    </tr>\n",
       "    <tr>\n",
       "      <th>20181</th>\n",
       "      <td>-0.266498</td>\n",
       "      <td>-1.715794</td>\n",
       "      <td>-1.403873</td>\n",
       "      <td>-0.032819</td>\n",
       "      <td>-0.862452</td>\n",
       "      <td>1.838477</td>\n",
       "      <td>-0.114810</td>\n",
       "      <td>-0.081576</td>\n",
       "      <td>-0.183457</td>\n",
       "      <td>-0.584611</td>\n",
       "    </tr>\n",
       "    <tr>\n",
       "      <th>4712</th>\n",
       "      <td>-0.071688</td>\n",
       "      <td>-1.715794</td>\n",
       "      <td>-0.231548</td>\n",
       "      <td>-0.640136</td>\n",
       "      <td>-2.257931</td>\n",
       "      <td>2.580364</td>\n",
       "      <td>0.285019</td>\n",
       "      <td>0.213733</td>\n",
       "      <td>-0.097209</td>\n",
       "      <td>-0.371417</td>\n",
       "    </tr>\n",
       "    <tr>\n",
       "      <th>2548</th>\n",
       "      <td>0.469450</td>\n",
       "      <td>0.080980</td>\n",
       "      <td>-0.231548</td>\n",
       "      <td>0.574498</td>\n",
       "      <td>0.861376</td>\n",
       "      <td>0.725647</td>\n",
       "      <td>0.569343</td>\n",
       "      <td>0.544837</td>\n",
       "      <td>0.650274</td>\n",
       "      <td>0.831873</td>\n",
       "    </tr>\n",
       "  </tbody>\n",
       "</table>\n",
       "</div>"
      ],
      "text/plain": [
       "          carat       cut     color   clarity     depth     table         x  \\\n",
       "5030   0.664259 -1.715794  0.940777 -1.247452  1.271811 -0.665390  0.711505   \n",
       "12108  0.469450 -0.817407  1.526940 -1.247452  1.846420 -0.665390  0.507147   \n",
       "20181 -0.266498 -1.715794 -1.403873 -0.032819 -0.862452  1.838477 -0.114810   \n",
       "4712  -0.071688 -1.715794 -0.231548 -0.640136 -2.257931  2.580364  0.285019   \n",
       "2548   0.469450  0.080980 -0.231548  0.574498  0.861376  0.725647  0.569343   \n",
       "\n",
       "              y         z     price  \n",
       "5030   0.759608  0.880269  0.095359  \n",
       "12108  0.580632  0.750897  0.412986  \n",
       "20181 -0.081576 -0.183457 -0.584611  \n",
       "4712   0.213733 -0.097209 -0.371417  \n",
       "2548   0.544837  0.650274  0.831873  "
      ]
     },
     "execution_count": 45,
     "metadata": {},
     "output_type": "execute_result"
    }
   ],
   "source": [
    "trainset = pd.concat([X_train, Y_train], axis=1)\n",
    "testset = pd.concat([X_test,Y_test],axis=1)\n",
    "trainset.head()"
   ]
  },
  {
   "cell_type": "code",
   "execution_count": 46,
   "metadata": {},
   "outputs": [
    {
     "data": {
      "text/plain": [
       "Index(['carat', 'cut', 'color', 'clarity', 'depth', 'table', 'x', 'y', 'z',\n",
       "       'price'],\n",
       "      dtype='object')"
      ]
     },
     "execution_count": 46,
     "metadata": {},
     "output_type": "execute_result"
    }
   ],
   "source": [
    "trainset.columns"
   ]
  },
  {
   "cell_type": "code",
   "execution_count": 47,
   "metadata": {},
   "outputs": [
    {
     "data": {
      "text/plain": [
       "Intercept   -0.000292\n",
       "carat        1.184475\n",
       "cut          0.036393\n",
       "color        0.134473\n",
       "clarity      0.207537\n",
       "depth        0.012457\n",
       "table       -0.009376\n",
       "x           -0.437915\n",
       "y            0.503506\n",
       "z           -0.194773\n",
       "dtype: float64"
      ]
     },
     "execution_count": 47,
     "metadata": {},
     "output_type": "execute_result"
    }
   ],
   "source": [
    "import statsmodels.formula.api as smf\n",
    "lm1 = smf.ols(formula='price ~ carat + cut + color + clarity + depth + table + x + y + z', data = trainset).fit()\n",
    "lm1.params"
   ]
  },
  {
   "cell_type": "code",
   "execution_count": 48,
   "metadata": {},
   "outputs": [
    {
     "name": "stdout",
     "output_type": "stream",
     "text": [
      "                            OLS Regression Results                            \n",
      "==============================================================================\n",
      "Dep. Variable:                  price   R-squared:                       0.931\n",
      "Model:                            OLS   Adj. R-squared:                  0.931\n",
      "Method:                 Least Squares   F-statistic:                 2.834e+04\n",
      "Date:                Sun, 01 Nov 2020   Prob (F-statistic):               0.00\n",
      "Time:                        19:53:03   Log-Likelihood:                -1472.3\n",
      "No. Observations:               18847   AIC:                             2965.\n",
      "Df Residuals:                   18837   BIC:                             3043.\n",
      "Df Model:                           9                                         \n",
      "Covariance Type:            nonrobust                                         \n",
      "==============================================================================\n",
      "                 coef    std err          t      P>|t|      [0.025      0.975]\n",
      "------------------------------------------------------------------------------\n",
      "Intercept     -0.0003      0.002     -0.153      0.878      -0.004       0.003\n",
      "carat          1.1845      0.011    107.642      0.000       1.163       1.206\n",
      "cut            0.0364      0.002     15.498      0.000       0.032       0.041\n",
      "color          0.1345      0.002     66.558      0.000       0.131       0.138\n",
      "clarity        0.2075      0.002     97.724      0.000       0.203       0.212\n",
      "depth          0.0125      0.004      3.196      0.001       0.005       0.020\n",
      "table         -0.0094      0.002     -3.851      0.000      -0.014      -0.005\n",
      "x             -0.4379      0.044     -9.963      0.000      -0.524      -0.352\n",
      "y              0.5035      0.043     11.738      0.000       0.419       0.588\n",
      "z             -0.1948      0.028     -6.979      0.000      -0.249      -0.140\n",
      "==============================================================================\n",
      "Omnibus:                     2652.224   Durbin-Watson:                   2.004\n",
      "Prob(Omnibus):                  0.000   Jarque-Bera (JB):             9564.804\n",
      "Skew:                           0.690   Prob(JB):                         0.00\n",
      "Kurtosis:                       6.206   Cond. No.                         62.9\n",
      "==============================================================================\n",
      "\n",
      "Warnings:\n",
      "[1] Standard Errors assume that the covariance matrix of the errors is correctly specified.\n"
     ]
    }
   ],
   "source": [
    "print(lm1.summary())"
   ]
  },
  {
   "cell_type": "code",
   "execution_count": 49,
   "metadata": {},
   "outputs": [],
   "source": [
    "mse = np.mean((lm1.predict(trainset.drop('price',axis=1))-trainset['price'])**2)"
   ]
  },
  {
   "cell_type": "code",
   "execution_count": 50,
   "metadata": {},
   "outputs": [
    {
     "data": {
      "text/plain": [
       "0.26163092383676884"
      ]
     },
     "execution_count": 50,
     "metadata": {},
     "output_type": "execute_result"
    }
   ],
   "source": [
    "#Root Mean Squared Error - RMSE\n",
    "np.sqrt(mse)"
   ]
  },
  {
   "cell_type": "code",
   "execution_count": 51,
   "metadata": {},
   "outputs": [
    {
     "data": {
      "text/plain": [
       "0.2617003606393495"
      ]
     },
     "execution_count": 51,
     "metadata": {},
     "output_type": "execute_result"
    }
   ],
   "source": [
    "np.sqrt(lm1.mse_resid)"
   ]
  },
  {
   "cell_type": "code",
   "execution_count": 52,
   "metadata": {
    "scrolled": true
   },
   "outputs": [
    {
     "name": "stdout",
     "output_type": "stream",
     "text": [
      "(-0.0) * Intercept + (1.18) * carat + (0.04) * cut + (0.13) * color + (0.21) * clarity + (0.01) * depth + (-0.01) * table + (-0.44) * x + (0.5) * y + (-0.19) * z + "
     ]
    }
   ],
   "source": [
    "for i,j in np.array(lm1.params.reset_index()):\n",
    "    print('({}) * {} +'.format(round(j,2),i),end=' ')"
   ]
  },
  {
   "cell_type": "markdown",
   "metadata": {},
   "source": [
    "#### Using Linear Model from Sci-kit learn library"
   ]
  },
  {
   "cell_type": "markdown",
   "metadata": {},
   "source": [
    "#### Fit the model to the training set"
   ]
  },
  {
   "cell_type": "code",
   "execution_count": 53,
   "metadata": {},
   "outputs": [
    {
     "data": {
      "text/plain": [
       "LinearRegression()"
      ]
     },
     "execution_count": 53,
     "metadata": {},
     "output_type": "execute_result"
    }
   ],
   "source": [
    "regression_model = LinearRegression()\n",
    "regression_model.fit(X_train, Y_train)"
   ]
  },
  {
   "cell_type": "code",
   "execution_count": 54,
   "metadata": {},
   "outputs": [
    {
     "data": {
      "text/plain": [
       "array([[ 1.18447547,  0.03639268,  0.13447266,  0.20753687,  0.01245742,\n",
       "        -0.00937568, -0.43791476,  0.50350613, -0.19477299]])"
      ]
     },
     "execution_count": 54,
     "metadata": {},
     "output_type": "execute_result"
    }
   ],
   "source": [
    "regression_model.coef_"
   ]
  },
  {
   "cell_type": "code",
   "execution_count": 55,
   "metadata": {},
   "outputs": [
    {
     "data": {
      "text/plain": [
       "array([-0.00029197])"
      ]
     },
     "execution_count": 55,
     "metadata": {},
     "output_type": "execute_result"
    }
   ],
   "source": [
    "regression_model.intercept_"
   ]
  },
  {
   "cell_type": "markdown",
   "metadata": {},
   "source": [
    "#### Get the score on training set"
   ]
  },
  {
   "cell_type": "code",
   "execution_count": 56,
   "metadata": {},
   "outputs": [
    {
     "name": "stdout",
     "output_type": "stream",
     "text": [
      "The coefficient of determination R^2 of the prediction on Train set 0.9312287832968958\n"
     ]
    }
   ],
   "source": [
    "print('The coefficient of determination R^2 of the prediction on Train set',regression_model.score(X_train, Y_train))"
   ]
  },
  {
   "cell_type": "markdown",
   "metadata": {},
   "source": [
    "#### Get the score on test set"
   ]
  },
  {
   "cell_type": "code",
   "execution_count": 57,
   "metadata": {},
   "outputs": [
    {
     "name": "stdout",
     "output_type": "stream",
     "text": [
      "The coefficient of determination R^2 of the prediction on Test set 0.9316264205922415\n"
     ]
    }
   ],
   "source": [
    "print('The coefficient of determination R^2 of the prediction on Test set',regression_model.score(X_test, Y_test))"
   ]
  },
  {
   "cell_type": "markdown",
   "metadata": {},
   "source": [
    "#### Get the RMSE on train set"
   ]
  },
  {
   "cell_type": "code",
   "execution_count": 58,
   "metadata": {},
   "outputs": [
    {
     "name": "stdout",
     "output_type": "stream",
     "text": [
      "The Root Mean Square Error (RMSE) of the model is for training set is 0.26163092383676895\n"
     ]
    }
   ],
   "source": [
    "print(\"The Root Mean Square Error (RMSE) of the model is for training set is\",np.sqrt(mean_squared_error(Y_train,regression_model.predict(X_train))))"
   ]
  },
  {
   "cell_type": "markdown",
   "metadata": {},
   "source": [
    "#### Get the RMSE on test set"
   ]
  },
  {
   "cell_type": "code",
   "execution_count": 59,
   "metadata": {},
   "outputs": [
    {
     "name": "stdout",
     "output_type": "stream",
     "text": [
      "The Root Mean Square Error (RMSE) of the model is for testing set is 0.26289869575092717\n"
     ]
    }
   ],
   "source": [
    "print(\"The Root Mean Square Error (RMSE) of the model is for testing set is\",np.sqrt(mean_squared_error(Y_test,regression_model.predict(X_test))))"
   ]
  },
  {
   "cell_type": "code",
   "execution_count": 60,
   "metadata": {},
   "outputs": [],
   "source": [
    "vif = [variance_inflation_factor(X.values, ix) for ix in range(X.shape[1])] "
   ]
  },
  {
   "cell_type": "code",
   "execution_count": 61,
   "metadata": {},
   "outputs": [
    {
     "name": "stdout",
     "output_type": "stream",
     "text": [
      "carat ---> 32.89128404185397\n",
      "cut ---> 1.509589884516437\n",
      "color ---> 1.1198594782180107\n",
      "clarity ---> 1.2414523580588017\n",
      "depth ---> 4.453926947877299\n",
      "table ---> 1.6183480806529642\n",
      "x ---> 417.3709348254094\n",
      "y ---> 398.58165998578113\n",
      "z ---> 234.83706069999403\n"
     ]
    }
   ],
   "source": [
    "i=0\n",
    "for column in X.columns:\n",
    "    if i < 15:\n",
    "        print (column ,\"--->\",  vif[i])\n",
    "        i = i+1"
   ]
  },
  {
   "cell_type": "code",
   "execution_count": 62,
   "metadata": {
    "scrolled": true
   },
   "outputs": [],
   "source": [
    "y_pred = regression_model.predict(X_test)\n",
    "np.set_printoptions(precision=3) "
   ]
  },
  {
   "cell_type": "code",
   "execution_count": 63,
   "metadata": {},
   "outputs": [
    {
     "data": {
      "text/html": [
       "<div>\n",
       "<style scoped>\n",
       "    .dataframe tbody tr th:only-of-type {\n",
       "        vertical-align: middle;\n",
       "    }\n",
       "\n",
       "    .dataframe tbody tr th {\n",
       "        vertical-align: top;\n",
       "    }\n",
       "\n",
       "    .dataframe thead th {\n",
       "        text-align: right;\n",
       "    }\n",
       "</style>\n",
       "<table border=\"1\" class=\"dataframe\">\n",
       "  <thead>\n",
       "    <tr style=\"text-align: right;\">\n",
       "      <th></th>\n",
       "      <th>Predicted</th>\n",
       "      <th>Actual</th>\n",
       "    </tr>\n",
       "  </thead>\n",
       "  <tbody>\n",
       "    <tr>\n",
       "      <th>0</th>\n",
       "      <td>1.313408</td>\n",
       "      <td>1.449240</td>\n",
       "    </tr>\n",
       "    <tr>\n",
       "      <th>1</th>\n",
       "      <td>0.324015</td>\n",
       "      <td>0.283743</td>\n",
       "    </tr>\n",
       "    <tr>\n",
       "      <th>2</th>\n",
       "      <td>2.810623</td>\n",
       "      <td>2.374426</td>\n",
       "    </tr>\n",
       "    <tr>\n",
       "      <th>3</th>\n",
       "      <td>2.281614</td>\n",
       "      <td>2.374426</td>\n",
       "    </tr>\n",
       "    <tr>\n",
       "      <th>4</th>\n",
       "      <td>1.408858</td>\n",
       "      <td>1.278166</td>\n",
       "    </tr>\n",
       "    <tr>\n",
       "      <th>...</th>\n",
       "      <td>...</td>\n",
       "      <td>...</td>\n",
       "    </tr>\n",
       "    <tr>\n",
       "      <th>8073</th>\n",
       "      <td>0.134291</td>\n",
       "      <td>0.261818</td>\n",
       "    </tr>\n",
       "    <tr>\n",
       "      <th>8074</th>\n",
       "      <td>0.169290</td>\n",
       "      <td>0.087570</td>\n",
       "    </tr>\n",
       "    <tr>\n",
       "      <th>8075</th>\n",
       "      <td>-1.085484</td>\n",
       "      <td>-0.900507</td>\n",
       "    </tr>\n",
       "    <tr>\n",
       "      <th>8076</th>\n",
       "      <td>-0.959466</td>\n",
       "      <td>-0.833866</td>\n",
       "    </tr>\n",
       "    <tr>\n",
       "      <th>8077</th>\n",
       "      <td>0.433885</td>\n",
       "      <td>0.422218</td>\n",
       "    </tr>\n",
       "  </tbody>\n",
       "</table>\n",
       "<p>8078 rows × 2 columns</p>\n",
       "</div>"
      ],
      "text/plain": [
       "      Predicted    Actual\n",
       "0      1.313408  1.449240\n",
       "1      0.324015  0.283743\n",
       "2      2.810623  2.374426\n",
       "3      2.281614  2.374426\n",
       "4      1.408858  1.278166\n",
       "...         ...       ...\n",
       "8073   0.134291  0.261818\n",
       "8074   0.169290  0.087570\n",
       "8075  -1.085484 -0.900507\n",
       "8076  -0.959466 -0.833866\n",
       "8077   0.433885  0.422218\n",
       "\n",
       "[8078 rows x 2 columns]"
      ]
     },
     "execution_count": 63,
     "metadata": {},
     "output_type": "execute_result"
    }
   ],
   "source": [
    "prediction = pd.DataFrame(np.concatenate((y_pred.reshape(len(y_pred),1), Y_test.values.reshape(len(Y_test),1)),1),columns=['Predicted','Actual'])\n",
    "prediction"
   ]
  },
  {
   "cell_type": "code",
   "execution_count": 64,
   "metadata": {},
   "outputs": [
    {
     "data": {
      "text/plain": [
       "<matplotlib.collections.PathCollection at 0x1f9398fd248>"
      ]
     },
     "execution_count": 64,
     "metadata": {},
     "output_type": "execute_result"
    },
    {
     "data": {
      "image/png": "[encoded data removed]",
      "text/plain": [
       "<Figure size 432x288 with 1 Axes>"
      ]
     },
     "metadata": {
      "needs_background": "light"
     },
     "output_type": "display_data"
    }
   ],
   "source": [
    "plt.scatter(Y_test['price'], y_pred)\n",
    "#plt.title('Salary vs Experience (Test set)')\n",
    "#plt.xlabel('Years of Experience')\n",
    "#plt.ylabel('Salary')"
   ]
  },
  {
   "cell_type": "markdown",
   "metadata": {},
   "source": [
    "### Predicting the Price - Unscaled Data"
   ]
  },
  {
   "cell_type": "code",
   "execution_count": 65,
   "metadata": {
    "scrolled": false
   },
   "outputs": [],
   "source": [
    "X_us = diamond.iloc[:,0:9]\n",
    "Y_us = diamond['price']"
   ]
  },
  {
   "cell_type": "code",
   "execution_count": 66,
   "metadata": {},
   "outputs": [],
   "source": [
    "X_train_us, X_test_us, Y_train_us, Y_test_us = train_test_split(X_us, Y_us, test_size=0.30 , random_state=1)"
   ]
  },
  {
   "cell_type": "code",
   "execution_count": 67,
   "metadata": {},
   "outputs": [
    {
     "data": {
      "text/html": [
       "<table class=\"simpletable\">\n",
       "<caption>OLS Regression Results</caption>\n",
       "<tr>\n",
       "  <th>Dep. Variable:</th>          <td>price</td>      <th>  R-squared (uncentered):</th>       <td>   0.968</td>  \n",
       "</tr>\n",
       "<tr>\n",
       "  <th>Model:</th>                   <td>OLS</td>       <th>  Adj. R-squared (uncentered):</th>  <td>   0.968</td>  \n",
       "</tr>\n",
       "<tr>\n",
       "  <th>Method:</th>             <td>Least Squares</td>  <th>  F-statistic:       </th>           <td>6.355e+04</td> \n",
       "</tr>\n",
       "<tr>\n",
       "  <th>Date:</th>             <td>Sun, 01 Nov 2020</td> <th>  Prob (F-statistic):</th>            <td>  0.00</td>   \n",
       "</tr>\n",
       "<tr>\n",
       "  <th>Time:</th>                 <td>19:53:06</td>     <th>  Log-Likelihood:    </th>          <td>-1.5512e+05</td>\n",
       "</tr>\n",
       "<tr>\n",
       "  <th>No. Observations:</th>      <td> 18847</td>      <th>  AIC:               </th>           <td>3.103e+05</td> \n",
       "</tr>\n",
       "<tr>\n",
       "  <th>Df Residuals:</th>          <td> 18838</td>      <th>  BIC:               </th>           <td>3.103e+05</td> \n",
       "</tr>\n",
       "<tr>\n",
       "  <th>Df Model:</th>              <td>     9</td>      <th>                     </th>               <td> </td>     \n",
       "</tr>\n",
       "<tr>\n",
       "  <th>Covariance Type:</th>      <td>nonrobust</td>    <th>                     </th>               <td> </td>     \n",
       "</tr>\n",
       "</table>\n",
       "<table class=\"simpletable\">\n",
       "<tr>\n",
       "     <td></td>        <th>coef</th>     <th>std err</th>      <th>t</th>      <th>P>|t|</th>  <th>[0.025</th>    <th>0.975]</th>  \n",
       "</tr>\n",
       "<tr>\n",
       "  <th>carat</th>   <td> 9035.3729</td> <td>   80.182</td> <td>  112.686</td> <td> 0.000</td> <td> 8878.210</td> <td> 9192.536</td>\n",
       "</tr>\n",
       "<tr>\n",
       "  <th>cut</th>     <td>   93.6489</td> <td>    6.816</td> <td>   13.740</td> <td> 0.000</td> <td>   80.290</td> <td>  107.008</td>\n",
       "</tr>\n",
       "<tr>\n",
       "  <th>color</th>   <td>  271.9595</td> <td>    4.107</td> <td>   66.215</td> <td> 0.000</td> <td>  263.909</td> <td>  280.010</td>\n",
       "</tr>\n",
       "<tr>\n",
       "  <th>clarity</th> <td>  433.2710</td> <td>    4.450</td> <td>   97.369</td> <td> 0.000</td> <td>  424.549</td> <td>  441.993</td>\n",
       "</tr>\n",
       "<tr>\n",
       "  <th>depth</th>   <td>  -41.4275</td> <td>    3.732</td> <td>  -11.102</td> <td> 0.000</td> <td>  -48.742</td> <td>  -34.113</td>\n",
       "</tr>\n",
       "<tr>\n",
       "  <th>table</th>   <td>  -29.4923</td> <td>    3.392</td> <td>   -8.695</td> <td> 0.000</td> <td>  -36.141</td> <td>  -22.844</td>\n",
       "</tr>\n",
       "<tr>\n",
       "  <th>x</th>       <td>-1512.1519</td> <td>  133.731</td> <td>  -11.307</td> <td> 0.000</td> <td>-1774.277</td> <td>-1250.026</td>\n",
       "</tr>\n",
       "<tr>\n",
       "  <th>y</th>       <td> 1240.6457</td> <td>  125.869</td> <td>    9.857</td> <td> 0.000</td> <td>  993.930</td> <td> 1487.361</td>\n",
       "</tr>\n",
       "<tr>\n",
       "  <th>z</th>       <td> -286.1761</td> <td>  103.541</td> <td>   -2.764</td> <td> 0.006</td> <td> -489.125</td> <td>  -83.227</td>\n",
       "</tr>\n",
       "</table>\n",
       "<table class=\"simpletable\">\n",
       "<tr>\n",
       "  <th>Omnibus:</th>       <td>2673.859</td> <th>  Durbin-Watson:     </th> <td>   2.006</td> \n",
       "</tr>\n",
       "<tr>\n",
       "  <th>Prob(Omnibus):</th>  <td> 0.000</td>  <th>  Jarque-Bera (JB):  </th> <td>10118.064</td>\n",
       "</tr>\n",
       "<tr>\n",
       "  <th>Skew:</th>           <td> 0.681</td>  <th>  Prob(JB):          </th> <td>    0.00</td> \n",
       "</tr>\n",
       "<tr>\n",
       "  <th>Kurtosis:</th>       <td> 6.321</td>  <th>  Cond. No.          </th> <td>2.30e+03</td> \n",
       "</tr>\n",
       "</table><br/><br/>Warnings:<br/>[1] Standard Errors assume that the covariance matrix of the errors is correctly specified.<br/>[2] The condition number is large, 2.3e+03. This might indicate that there are<br/>strong multicollinearity or other numerical problems."
      ],
      "text/plain": [
       "<class 'statsmodels.iolib.summary.Summary'>\n",
       "\"\"\"\n",
       "                                 OLS Regression Results                                \n",
       "=======================================================================================\n",
       "Dep. Variable:                  price   R-squared (uncentered):                   0.968\n",
       "Model:                            OLS   Adj. R-squared (uncentered):              0.968\n",
       "Method:                 Least Squares   F-statistic:                          6.355e+04\n",
       "Date:                Sun, 01 Nov 2020   Prob (F-statistic):                        0.00\n",
       "Time:                        19:53:06   Log-Likelihood:                     -1.5512e+05\n",
       "No. Observations:               18847   AIC:                                  3.103e+05\n",
       "Df Residuals:                   18838   BIC:                                  3.103e+05\n",
       "Df Model:                           9                                                  \n",
       "Covariance Type:            nonrobust                                                  \n",
       "==============================================================================\n",
       "                 coef    std err          t      P>|t|      [0.025      0.975]\n",
       "------------------------------------------------------------------------------\n",
       "carat       9035.3729     80.182    112.686      0.000    8878.210    9192.536\n",
       "cut           93.6489      6.816     13.740      0.000      80.290     107.008\n",
       "color        271.9595      4.107     66.215      0.000     263.909     280.010\n",
       "clarity      433.2710      4.450     97.369      0.000     424.549     441.993\n",
       "depth        -41.4275      3.732    -11.102      0.000     -48.742     -34.113\n",
       "table        -29.4923      3.392     -8.695      0.000     -36.141     -22.844\n",
       "x          -1512.1519    133.731    -11.307      0.000   -1774.277   -1250.026\n",
       "y           1240.6457    125.869      9.857      0.000     993.930    1487.361\n",
       "z           -286.1761    103.541     -2.764      0.006    -489.125     -83.227\n",
       "==============================================================================\n",
       "Omnibus:                     2673.859   Durbin-Watson:                   2.006\n",
       "Prob(Omnibus):                  0.000   Jarque-Bera (JB):            10118.064\n",
       "Skew:                           0.681   Prob(JB):                         0.00\n",
       "Kurtosis:                       6.321   Cond. No.                     2.30e+03\n",
       "==============================================================================\n",
       "\n",
       "Warnings:\n",
       "[1] Standard Errors assume that the covariance matrix of the errors is correctly specified.\n",
       "[2] The condition number is large, 2.3e+03. This might indicate that there are\n",
       "strong multicollinearity or other numerical problems.\n",
       "\"\"\""
      ]
     },
     "execution_count": 67,
     "metadata": {},
     "output_type": "execute_result"
    }
   ],
   "source": [
    "model = sm.OLS(Y_train_us,X_train_us).fit()\n",
    "model.summary()"
   ]
  },
  {
   "cell_type": "code",
   "execution_count": 68,
   "metadata": {},
   "outputs": [
    {
     "data": {
      "text/plain": [
       "(8078,)"
      ]
     },
     "execution_count": 68,
     "metadata": {},
     "output_type": "execute_result"
    }
   ],
   "source": [
    "Y_test_us.shape"
   ]
  },
  {
   "cell_type": "code",
   "execution_count": 69,
   "metadata": {},
   "outputs": [
    {
     "data": {
      "text/plain": [
       "LinearRegression()"
      ]
     },
     "execution_count": 69,
     "metadata": {},
     "output_type": "execute_result"
    }
   ],
   "source": [
    "model = LinearRegression()\n",
    "model.fit(X_train_us, Y_train_us)"
   ]
  },
  {
   "cell_type": "code",
   "execution_count": 70,
   "metadata": {},
   "outputs": [],
   "source": [
    "Y_pred_us = model.predict(X_test_us)\n",
    "np.set_printoptions(precision=3) "
   ]
  },
  {
   "cell_type": "code",
   "execution_count": 71,
   "metadata": {
    "scrolled": true
   },
   "outputs": [
    {
     "data": {
      "text/html": [
       "<div>\n",
       "<style scoped>\n",
       "    .dataframe tbody tr th:only-of-type {\n",
       "        vertical-align: middle;\n",
       "    }\n",
       "\n",
       "    .dataframe tbody tr th {\n",
       "        vertical-align: top;\n",
       "    }\n",
       "\n",
       "    .dataframe thead th {\n",
       "        text-align: right;\n",
       "    }\n",
       "</style>\n",
       "<table border=\"1\" class=\"dataframe\">\n",
       "  <thead>\n",
       "    <tr style=\"text-align: right;\">\n",
       "      <th></th>\n",
       "      <th>Predicted</th>\n",
       "      <th>Actual</th>\n",
       "    </tr>\n",
       "  </thead>\n",
       "  <tbody>\n",
       "    <tr>\n",
       "      <th>0</th>\n",
       "      <td>8287.158769</td>\n",
       "      <td>8758.0</td>\n",
       "    </tr>\n",
       "    <tr>\n",
       "      <th>1</th>\n",
       "      <td>4857.596683</td>\n",
       "      <td>4718.0</td>\n",
       "    </tr>\n",
       "    <tr>\n",
       "      <th>2</th>\n",
       "      <td>13477.002871</td>\n",
       "      <td>11965.0</td>\n",
       "    </tr>\n",
       "    <tr>\n",
       "      <th>3</th>\n",
       "      <td>11643.281714</td>\n",
       "      <td>11965.0</td>\n",
       "    </tr>\n",
       "    <tr>\n",
       "      <th>4</th>\n",
       "      <td>8618.019952</td>\n",
       "      <td>8165.0</td>\n",
       "    </tr>\n",
       "    <tr>\n",
       "      <th>...</th>\n",
       "      <td>...</td>\n",
       "      <td>...</td>\n",
       "    </tr>\n",
       "    <tr>\n",
       "      <th>8073</th>\n",
       "      <td>4199.950913</td>\n",
       "      <td>4642.0</td>\n",
       "    </tr>\n",
       "    <tr>\n",
       "      <th>8074</th>\n",
       "      <td>4321.270299</td>\n",
       "      <td>4038.0</td>\n",
       "    </tr>\n",
       "    <tr>\n",
       "      <th>8075</th>\n",
       "      <td>-28.192887</td>\n",
       "      <td>613.0</td>\n",
       "    </tr>\n",
       "    <tr>\n",
       "      <th>8076</th>\n",
       "      <td>408.627314</td>\n",
       "      <td>844.0</td>\n",
       "    </tr>\n",
       "    <tr>\n",
       "      <th>8077</th>\n",
       "      <td>5238.444168</td>\n",
       "      <td>5198.0</td>\n",
       "    </tr>\n",
       "  </tbody>\n",
       "</table>\n",
       "<p>8078 rows × 2 columns</p>\n",
       "</div>"
      ],
      "text/plain": [
       "         Predicted   Actual\n",
       "0      8287.158769   8758.0\n",
       "1      4857.596683   4718.0\n",
       "2     13477.002871  11965.0\n",
       "3     11643.281714  11965.0\n",
       "4      8618.019952   8165.0\n",
       "...            ...      ...\n",
       "8073   4199.950913   4642.0\n",
       "8074   4321.270299   4038.0\n",
       "8075    -28.192887    613.0\n",
       "8076    408.627314    844.0\n",
       "8077   5238.444168   5198.0\n",
       "\n",
       "[8078 rows x 2 columns]"
      ]
     },
     "execution_count": 71,
     "metadata": {},
     "output_type": "execute_result"
    }
   ],
   "source": [
    "prediction = pd.DataFrame(np.concatenate((Y_pred_us.reshape(len(Y_pred_us),1), Y_test_us.values.reshape(len(Y_test_us),1)),1),columns=['Predicted','Actual'])\n",
    "prediction"
   ]
  },
  {
   "cell_type": "markdown",
   "metadata": {},
   "source": [
    "### 1.4 Inference: Basis on these predictions, what are the business insights and recommendations."
   ]
  },
  {
   "cell_type": "markdown",
   "metadata": {},
   "source": [
    "From the above analysis, the top five important variables are:\n",
    "1.\tcarat\n",
    "2.\ty\n",
    "3.\tx\n",
    "4.\tclarity\n",
    "5.\tz\n",
    "\n",
    "The above five variables mainly influence the price of cubic zirconia (CZ). \n",
    "\tA one unit increase in ‘carat’ will lead to 1.18 units increase in the price of cubic zirconia.\n",
    "\n",
    "\tA one unit increase in ‘y’ (Width of cubic zirconia in mm) will lead to 0.50 units increase in the price of cubic zirconia.\n",
    "\n",
    "\tA one unit increase in ‘x’ (Length of cubic zirconia in mm) will lead to 0.44 units decrease in the price of cubic zirconia.\n",
    "\n",
    "\tA one unit increase in ‘clarity’ will lead to 0.21 units increase in the price of cubic zirconia.\n",
    "\n",
    "\tA one unit increase in ‘z’ (Height of cubic zirconia in mm) will lead to 0.19 units decrease in the price of cubic zirconia.\n",
    "\n",
    "Accordingly, Gem Stones Co Ltd., should concentrate more on increasing the ‘carat’, improving on its ‘y’ (Width) and enhancing the ‘clarity’ as these variables have a positive impact on the price. On the other hand, they should concentrate on decreasing ‘x’ (Length) and ‘z’ (Height) as they are inversely related to the price of cubic zirconia. These will help the company in pricing the CZ in such a way that they can extract maximum profit.\n"
   ]
  },
  {
   "cell_type": "markdown",
   "metadata": {},
   "source": []
  },
  {
   "cell_type": "markdown",
   "metadata": {},
   "source": [
    "## Problem 2: Logistic Regression and LDA\n",
    "\n",
    "### You are hired by a tour and travel agency which deals in selling holiday packages. You are provided details of 872 employees of a company. Among these employees, some opted for the package and some didn't. You have to help the company in predicting whether an employee will opt for the package or not on the basis of the information given in the data set. Also, find out the important factors on the basis of which the company will focus on particular employees to sell their packages.\n"
   ]
  },
  {
   "cell_type": "code",
   "execution_count": 72,
   "metadata": {},
   "outputs": [],
   "source": [
    "import numpy as np\n",
    "import pandas as pd\n",
    "import matplotlib.pyplot as plt \n",
    "import seaborn as sns\n",
    "from sklearn import metrics\n",
    "from sklearn.model_selection import train_test_split\n",
    "from sklearn.linear_model import LogisticRegression\n",
    "from sklearn.discriminant_analysis import LinearDiscriminantAnalysis\n",
    "from sklearn.metrics import roc_auc_score,roc_curve,classification_report,confusion_matrix,plot_confusion_matrix\n",
    "from sklearn.model_selection import train_test_split,GridSearchCV\n",
    "import statsmodels.formula.api as sm"
   ]
  },
  {
   "cell_type": "markdown",
   "metadata": {},
   "source": [
    "### 2.1 Data Ingestion: Read the dataset. Do the descriptive statistics and do null value condition check, write an inference on it. Perform Univariate and Bivariate Analysis. Do exploratory data analysis."
   ]
  },
  {
   "cell_type": "code",
   "execution_count": 73,
   "metadata": {},
   "outputs": [],
   "source": [
    "tour_travel = pd.read_csv('Holiday_Package.csv')"
   ]
  },
  {
   "cell_type": "markdown",
   "metadata": {},
   "source": [
    "#### Observing the first 5 obsrvations of the dataset"
   ]
  },
  {
   "cell_type": "code",
   "execution_count": 74,
   "metadata": {
    "scrolled": true
   },
   "outputs": [
    {
     "data": {
      "text/html": [
       "<div>\n",
       "<style scoped>\n",
       "    .dataframe tbody tr th:only-of-type {\n",
       "        vertical-align: middle;\n",
       "    }\n",
       "\n",
       "    .dataframe tbody tr th {\n",
       "        vertical-align: top;\n",
       "    }\n",
       "\n",
       "    .dataframe thead th {\n",
       "        text-align: right;\n",
       "    }\n",
       "</style>\n",
       "<table border=\"1\" class=\"dataframe\">\n",
       "  <thead>\n",
       "    <tr style=\"text-align: right;\">\n",
       "      <th></th>\n",
       "      <th>Holliday_Package</th>\n",
       "      <th>Salary</th>\n",
       "      <th>age</th>\n",
       "      <th>educ</th>\n",
       "      <th>no_young_children</th>\n",
       "      <th>no_older_children</th>\n",
       "      <th>foreign</th>\n",
       "    </tr>\n",
       "  </thead>\n",
       "  <tbody>\n",
       "    <tr>\n",
       "      <th>0</th>\n",
       "      <td>no</td>\n",
       "      <td>48412</td>\n",
       "      <td>30</td>\n",
       "      <td>8</td>\n",
       "      <td>1</td>\n",
       "      <td>1</td>\n",
       "      <td>no</td>\n",
       "    </tr>\n",
       "    <tr>\n",
       "      <th>1</th>\n",
       "      <td>yes</td>\n",
       "      <td>37207</td>\n",
       "      <td>45</td>\n",
       "      <td>8</td>\n",
       "      <td>0</td>\n",
       "      <td>1</td>\n",
       "      <td>no</td>\n",
       "    </tr>\n",
       "    <tr>\n",
       "      <th>2</th>\n",
       "      <td>no</td>\n",
       "      <td>58022</td>\n",
       "      <td>46</td>\n",
       "      <td>9</td>\n",
       "      <td>0</td>\n",
       "      <td>0</td>\n",
       "      <td>no</td>\n",
       "    </tr>\n",
       "    <tr>\n",
       "      <th>3</th>\n",
       "      <td>no</td>\n",
       "      <td>66503</td>\n",
       "      <td>31</td>\n",
       "      <td>11</td>\n",
       "      <td>2</td>\n",
       "      <td>0</td>\n",
       "      <td>no</td>\n",
       "    </tr>\n",
       "    <tr>\n",
       "      <th>4</th>\n",
       "      <td>no</td>\n",
       "      <td>66734</td>\n",
       "      <td>44</td>\n",
       "      <td>12</td>\n",
       "      <td>0</td>\n",
       "      <td>2</td>\n",
       "      <td>no</td>\n",
       "    </tr>\n",
       "  </tbody>\n",
       "</table>\n",
       "</div>"
      ],
      "text/plain": [
       "  Holliday_Package  Salary  age  educ  no_young_children  no_older_children  \\\n",
       "0               no   48412   30     8                  1                  1   \n",
       "1              yes   37207   45     8                  0                  1   \n",
       "2               no   58022   46     9                  0                  0   \n",
       "3               no   66503   31    11                  2                  0   \n",
       "4               no   66734   44    12                  0                  2   \n",
       "\n",
       "  foreign  \n",
       "0      no  \n",
       "1      no  \n",
       "2      no  \n",
       "3      no  \n",
       "4      no  "
      ]
     },
     "execution_count": 74,
     "metadata": {},
     "output_type": "execute_result"
    }
   ],
   "source": [
    "tour_travel.head()"
   ]
  },
  {
   "cell_type": "markdown",
   "metadata": {},
   "source": [
    "#### Checking for Missing Values"
   ]
  },
  {
   "cell_type": "code",
   "execution_count": 75,
   "metadata": {},
   "outputs": [
    {
     "data": {
      "text/plain": [
       "Holliday_Package     0\n",
       "Salary               0\n",
       "age                  0\n",
       "educ                 0\n",
       "no_young_children    0\n",
       "no_older_children    0\n",
       "foreign              0\n",
       "dtype: int64"
      ]
     },
     "execution_count": 75,
     "metadata": {},
     "output_type": "execute_result"
    }
   ],
   "source": [
    "tour_travel.isnull().sum()"
   ]
  },
  {
   "cell_type": "markdown",
   "metadata": {},
   "source": [
    "#### Checking for the Data Types"
   ]
  },
  {
   "cell_type": "code",
   "execution_count": 76,
   "metadata": {},
   "outputs": [
    {
     "data": {
      "text/plain": [
       "Holliday_Package     object\n",
       "Salary                int64\n",
       "age                   int64\n",
       "educ                  int64\n",
       "no_young_children     int64\n",
       "no_older_children     int64\n",
       "foreign              object\n",
       "dtype: object"
      ]
     },
     "execution_count": 76,
     "metadata": {},
     "output_type": "execute_result"
    }
   ],
   "source": [
    "tour_travel.dtypes"
   ]
  },
  {
   "cell_type": "markdown",
   "metadata": {},
   "source": [
    "#### Dimension of the Dataset"
   ]
  },
  {
   "cell_type": "code",
   "execution_count": 77,
   "metadata": {},
   "outputs": [
    {
     "data": {
      "text/plain": [
       "(872, 7)"
      ]
     },
     "execution_count": 77,
     "metadata": {},
     "output_type": "execute_result"
    }
   ],
   "source": [
    "tour_travel.shape "
   ]
  },
  {
   "cell_type": "markdown",
   "metadata": {},
   "source": [
    "#### Information of the Dataset"
   ]
  },
  {
   "cell_type": "code",
   "execution_count": 78,
   "metadata": {
    "scrolled": true
   },
   "outputs": [
    {
     "name": "stdout",
     "output_type": "stream",
     "text": [
      "<class 'pandas.core.frame.DataFrame'>\n",
      "RangeIndex: 872 entries, 0 to 871\n",
      "Data columns (total 7 columns):\n",
      " #   Column             Non-Null Count  Dtype \n",
      "---  ------             --------------  ----- \n",
      " 0   Holliday_Package   872 non-null    object\n",
      " 1   Salary             872 non-null    int64 \n",
      " 2   age                872 non-null    int64 \n",
      " 3   educ               872 non-null    int64 \n",
      " 4   no_young_children  872 non-null    int64 \n",
      " 5   no_older_children  872 non-null    int64 \n",
      " 6   foreign            872 non-null    object\n",
      "dtypes: int64(5), object(2)\n",
      "memory usage: 47.8+ KB\n"
     ]
    }
   ],
   "source": [
    "tour_travel.info()"
   ]
  },
  {
   "cell_type": "markdown",
   "metadata": {},
   "source": [
    "#### Data Summary- Measures of Central Tendency & Measures of Dispersion"
   ]
  },
  {
   "cell_type": "code",
   "execution_count": 79,
   "metadata": {},
   "outputs": [
    {
     "data": {
      "text/html": [
       "<div>\n",
       "<style scoped>\n",
       "    .dataframe tbody tr th:only-of-type {\n",
       "        vertical-align: middle;\n",
       "    }\n",
       "\n",
       "    .dataframe tbody tr th {\n",
       "        vertical-align: top;\n",
       "    }\n",
       "\n",
       "    .dataframe thead th {\n",
       "        text-align: right;\n",
       "    }\n",
       "</style>\n",
       "<table border=\"1\" class=\"dataframe\">\n",
       "  <thead>\n",
       "    <tr style=\"text-align: right;\">\n",
       "      <th></th>\n",
       "      <th>Holliday_Package</th>\n",
       "      <th>Salary</th>\n",
       "      <th>age</th>\n",
       "      <th>educ</th>\n",
       "      <th>no_young_children</th>\n",
       "      <th>no_older_children</th>\n",
       "      <th>foreign</th>\n",
       "    </tr>\n",
       "  </thead>\n",
       "  <tbody>\n",
       "    <tr>\n",
       "      <th>count</th>\n",
       "      <td>872</td>\n",
       "      <td>872.000000</td>\n",
       "      <td>872.000000</td>\n",
       "      <td>872.000000</td>\n",
       "      <td>872.000000</td>\n",
       "      <td>872.000000</td>\n",
       "      <td>872</td>\n",
       "    </tr>\n",
       "    <tr>\n",
       "      <th>unique</th>\n",
       "      <td>2</td>\n",
       "      <td>NaN</td>\n",
       "      <td>NaN</td>\n",
       "      <td>NaN</td>\n",
       "      <td>NaN</td>\n",
       "      <td>NaN</td>\n",
       "      <td>2</td>\n",
       "    </tr>\n",
       "    <tr>\n",
       "      <th>top</th>\n",
       "      <td>no</td>\n",
       "      <td>NaN</td>\n",
       "      <td>NaN</td>\n",
       "      <td>NaN</td>\n",
       "      <td>NaN</td>\n",
       "      <td>NaN</td>\n",
       "      <td>no</td>\n",
       "    </tr>\n",
       "    <tr>\n",
       "      <th>freq</th>\n",
       "      <td>471</td>\n",
       "      <td>NaN</td>\n",
       "      <td>NaN</td>\n",
       "      <td>NaN</td>\n",
       "      <td>NaN</td>\n",
       "      <td>NaN</td>\n",
       "      <td>656</td>\n",
       "    </tr>\n",
       "    <tr>\n",
       "      <th>mean</th>\n",
       "      <td>NaN</td>\n",
       "      <td>47729.172018</td>\n",
       "      <td>39.955275</td>\n",
       "      <td>9.307339</td>\n",
       "      <td>0.311927</td>\n",
       "      <td>0.982798</td>\n",
       "      <td>NaN</td>\n",
       "    </tr>\n",
       "    <tr>\n",
       "      <th>std</th>\n",
       "      <td>NaN</td>\n",
       "      <td>23418.668531</td>\n",
       "      <td>10.551675</td>\n",
       "      <td>3.036259</td>\n",
       "      <td>0.612870</td>\n",
       "      <td>1.086786</td>\n",
       "      <td>NaN</td>\n",
       "    </tr>\n",
       "    <tr>\n",
       "      <th>min</th>\n",
       "      <td>NaN</td>\n",
       "      <td>1322.000000</td>\n",
       "      <td>20.000000</td>\n",
       "      <td>1.000000</td>\n",
       "      <td>0.000000</td>\n",
       "      <td>0.000000</td>\n",
       "      <td>NaN</td>\n",
       "    </tr>\n",
       "    <tr>\n",
       "      <th>25%</th>\n",
       "      <td>NaN</td>\n",
       "      <td>35324.000000</td>\n",
       "      <td>32.000000</td>\n",
       "      <td>8.000000</td>\n",
       "      <td>0.000000</td>\n",
       "      <td>0.000000</td>\n",
       "      <td>NaN</td>\n",
       "    </tr>\n",
       "    <tr>\n",
       "      <th>50%</th>\n",
       "      <td>NaN</td>\n",
       "      <td>41903.500000</td>\n",
       "      <td>39.000000</td>\n",
       "      <td>9.000000</td>\n",
       "      <td>0.000000</td>\n",
       "      <td>1.000000</td>\n",
       "      <td>NaN</td>\n",
       "    </tr>\n",
       "    <tr>\n",
       "      <th>75%</th>\n",
       "      <td>NaN</td>\n",
       "      <td>53469.500000</td>\n",
       "      <td>48.000000</td>\n",
       "      <td>12.000000</td>\n",
       "      <td>0.000000</td>\n",
       "      <td>2.000000</td>\n",
       "      <td>NaN</td>\n",
       "    </tr>\n",
       "    <tr>\n",
       "      <th>max</th>\n",
       "      <td>NaN</td>\n",
       "      <td>236961.000000</td>\n",
       "      <td>62.000000</td>\n",
       "      <td>21.000000</td>\n",
       "      <td>3.000000</td>\n",
       "      <td>6.000000</td>\n",
       "      <td>NaN</td>\n",
       "    </tr>\n",
       "  </tbody>\n",
       "</table>\n",
       "</div>"
      ],
      "text/plain": [
       "       Holliday_Package         Salary         age        educ  \\\n",
       "count               872     872.000000  872.000000  872.000000   \n",
       "unique                2            NaN         NaN         NaN   \n",
       "top                  no            NaN         NaN         NaN   \n",
       "freq                471            NaN         NaN         NaN   \n",
       "mean                NaN   47729.172018   39.955275    9.307339   \n",
       "std                 NaN   23418.668531   10.551675    3.036259   \n",
       "min                 NaN    1322.000000   20.000000    1.000000   \n",
       "25%                 NaN   35324.000000   32.000000    8.000000   \n",
       "50%                 NaN   41903.500000   39.000000    9.000000   \n",
       "75%                 NaN   53469.500000   48.000000   12.000000   \n",
       "max                 NaN  236961.000000   62.000000   21.000000   \n",
       "\n",
       "        no_young_children  no_older_children foreign  \n",
       "count          872.000000         872.000000     872  \n",
       "unique                NaN                NaN       2  \n",
       "top                   NaN                NaN      no  \n",
       "freq                  NaN                NaN     656  \n",
       "mean             0.311927           0.982798     NaN  \n",
       "std              0.612870           1.086786     NaN  \n",
       "min              0.000000           0.000000     NaN  \n",
       "25%              0.000000           0.000000     NaN  \n",
       "50%              0.000000           1.000000     NaN  \n",
       "75%              0.000000           2.000000     NaN  \n",
       "max              3.000000           6.000000     NaN  "
      ]
     },
     "execution_count": 79,
     "metadata": {},
     "output_type": "execute_result"
    }
   ],
   "source": [
    "tour_travel.describe(include='all')"
   ]
  },
  {
   "cell_type": "code",
   "execution_count": 80,
   "metadata": {},
   "outputs": [
    {
     "data": {
      "text/html": [
       "<div>\n",
       "<style scoped>\n",
       "    .dataframe tbody tr th:only-of-type {\n",
       "        vertical-align: middle;\n",
       "    }\n",
       "\n",
       "    .dataframe tbody tr th {\n",
       "        vertical-align: top;\n",
       "    }\n",
       "\n",
       "    .dataframe thead th {\n",
       "        text-align: right;\n",
       "    }\n",
       "</style>\n",
       "<table border=\"1\" class=\"dataframe\">\n",
       "  <thead>\n",
       "    <tr style=\"text-align: right;\">\n",
       "      <th></th>\n",
       "      <th>Holliday_Package</th>\n",
       "      <th>Salary</th>\n",
       "      <th>age</th>\n",
       "      <th>educ</th>\n",
       "      <th>no_young_children</th>\n",
       "      <th>no_older_children</th>\n",
       "      <th>foreign</th>\n",
       "    </tr>\n",
       "  </thead>\n",
       "  <tbody>\n",
       "    <tr>\n",
       "      <th>0</th>\n",
       "      <td>no</td>\n",
       "      <td>32197</td>\n",
       "      <td>44.0</td>\n",
       "      <td>8.0</td>\n",
       "      <td>0.0</td>\n",
       "      <td>0.0</td>\n",
       "      <td>no</td>\n",
       "    </tr>\n",
       "    <tr>\n",
       "      <th>1</th>\n",
       "      <td>NaN</td>\n",
       "      <td>33357</td>\n",
       "      <td>NaN</td>\n",
       "      <td>NaN</td>\n",
       "      <td>NaN</td>\n",
       "      <td>NaN</td>\n",
       "      <td>NaN</td>\n",
       "    </tr>\n",
       "    <tr>\n",
       "      <th>2</th>\n",
       "      <td>NaN</td>\n",
       "      <td>35341</td>\n",
       "      <td>NaN</td>\n",
       "      <td>NaN</td>\n",
       "      <td>NaN</td>\n",
       "      <td>NaN</td>\n",
       "      <td>NaN</td>\n",
       "    </tr>\n",
       "    <tr>\n",
       "      <th>3</th>\n",
       "      <td>NaN</td>\n",
       "      <td>36976</td>\n",
       "      <td>NaN</td>\n",
       "      <td>NaN</td>\n",
       "      <td>NaN</td>\n",
       "      <td>NaN</td>\n",
       "      <td>NaN</td>\n",
       "    </tr>\n",
       "    <tr>\n",
       "      <th>4</th>\n",
       "      <td>NaN</td>\n",
       "      <td>39460</td>\n",
       "      <td>NaN</td>\n",
       "      <td>NaN</td>\n",
       "      <td>NaN</td>\n",
       "      <td>NaN</td>\n",
       "      <td>NaN</td>\n",
       "    </tr>\n",
       "    <tr>\n",
       "      <th>5</th>\n",
       "      <td>NaN</td>\n",
       "      <td>40270</td>\n",
       "      <td>NaN</td>\n",
       "      <td>NaN</td>\n",
       "      <td>NaN</td>\n",
       "      <td>NaN</td>\n",
       "      <td>NaN</td>\n",
       "    </tr>\n",
       "    <tr>\n",
       "      <th>6</th>\n",
       "      <td>NaN</td>\n",
       "      <td>44280</td>\n",
       "      <td>NaN</td>\n",
       "      <td>NaN</td>\n",
       "      <td>NaN</td>\n",
       "      <td>NaN</td>\n",
       "      <td>NaN</td>\n",
       "    </tr>\n",
       "    <tr>\n",
       "      <th>7</th>\n",
       "      <td>NaN</td>\n",
       "      <td>46195</td>\n",
       "      <td>NaN</td>\n",
       "      <td>NaN</td>\n",
       "      <td>NaN</td>\n",
       "      <td>NaN</td>\n",
       "      <td>NaN</td>\n",
       "    </tr>\n",
       "  </tbody>\n",
       "</table>\n",
       "</div>"
      ],
      "text/plain": [
       "  Holliday_Package  Salary   age  educ  no_young_children  no_older_children  \\\n",
       "0               no   32197  44.0   8.0                0.0                0.0   \n",
       "1              NaN   33357   NaN   NaN                NaN                NaN   \n",
       "2              NaN   35341   NaN   NaN                NaN                NaN   \n",
       "3              NaN   36976   NaN   NaN                NaN                NaN   \n",
       "4              NaN   39460   NaN   NaN                NaN                NaN   \n",
       "5              NaN   40270   NaN   NaN                NaN                NaN   \n",
       "6              NaN   44280   NaN   NaN                NaN                NaN   \n",
       "7              NaN   46195   NaN   NaN                NaN                NaN   \n",
       "\n",
       "  foreign  \n",
       "0      no  \n",
       "1     NaN  \n",
       "2     NaN  \n",
       "3     NaN  \n",
       "4     NaN  \n",
       "5     NaN  \n",
       "6     NaN  \n",
       "7     NaN  "
      ]
     },
     "execution_count": 80,
     "metadata": {},
     "output_type": "execute_result"
    }
   ],
   "source": [
    "tour_travel.mode()"
   ]
  },
  {
   "cell_type": "code",
   "execution_count": 81,
   "metadata": {},
   "outputs": [
    {
     "name": "stdout",
     "output_type": "stream",
     "text": [
      "Salary               5.484340e+08\n",
      "age                  1.113378e+02\n",
      "educ                 9.218867e+00\n",
      "no_young_children    3.756096e-01\n",
      "no_older_children    1.181104e+00\n",
      "dtype: float64\n"
     ]
    }
   ],
   "source": [
    "print(tour_travel.var())"
   ]
  },
  {
   "cell_type": "code",
   "execution_count": 82,
   "metadata": {},
   "outputs": [
    {
     "data": {
      "text/plain": [
       "Salary               18145.5\n",
       "age                     16.0\n",
       "educ                     4.0\n",
       "no_young_children        0.0\n",
       "no_older_children        2.0\n",
       "dtype: float64"
      ]
     },
     "execution_count": 82,
     "metadata": {},
     "output_type": "execute_result"
    }
   ],
   "source": [
    "tour_travel.quantile(0.75) - tour_travel.quantile(0.25)"
   ]
  },
  {
   "cell_type": "code",
   "execution_count": 83,
   "metadata": {
    "scrolled": true
   },
   "outputs": [
    {
     "name": "stdout",
     "output_type": "stream",
     "text": [
      "Salary               0.490657\n",
      "age                  0.264087\n",
      "educ                 0.326222\n",
      "no_young_children    1.964789\n",
      "no_older_children    1.105808\n",
      "dtype: float64\n"
     ]
    }
   ],
   "source": [
    "cv = tour_travel.std()/tour_travel.mean()\n",
    "print(cv)"
   ]
  },
  {
   "cell_type": "markdown",
   "metadata": {},
   "source": [
    "#### Shape of the Data"
   ]
  },
  {
   "cell_type": "code",
   "execution_count": 84,
   "metadata": {},
   "outputs": [
    {
     "data": {
      "text/plain": [
       "Salary               3.103216\n",
       "age                  0.146412\n",
       "educ                -0.045501\n",
       "no_young_children    1.946515\n",
       "no_older_children    0.953951\n",
       "dtype: float64"
      ]
     },
     "execution_count": 84,
     "metadata": {},
     "output_type": "execute_result"
    }
   ],
   "source": [
    "tour_travel.skew() "
   ]
  },
  {
   "cell_type": "markdown",
   "metadata": {},
   "source": [
    "#### Five Number Summary"
   ]
  },
  {
   "cell_type": "code",
   "execution_count": 85,
   "metadata": {},
   "outputs": [
    {
     "data": {
      "text/plain": [
       "<matplotlib.axes._subplots.AxesSubplot at 0x1f9399c0fc8>"
      ]
     },
     "execution_count": 85,
     "metadata": {},
     "output_type": "execute_result"
    },
    {
     "data": {
      "image/png": "[encoded data removed]",
      "text/plain": [
       "<Figure size 432x432 with 1 Axes>"
      ]
     },
     "metadata": {
      "needs_background": "light"
     },
     "output_type": "display_data"
    }
   ],
   "source": [
    "tour_travel.boxplot(column=\"Salary\",figsize=(6,6))"
   ]
  },
  {
   "cell_type": "code",
   "execution_count": 86,
   "metadata": {},
   "outputs": [
    {
     "data": {
      "text/plain": [
       "<matplotlib.axes._subplots.AxesSubplot at 0x1f939cb3fc8>"
      ]
     },
     "execution_count": 86,
     "metadata": {},
     "output_type": "execute_result"
    },
    {
     "data": {
      "image/png": "[encoded data removed]",
      "text/plain": [
       "<Figure size 432x432 with 1 Axes>"
      ]
     },
     "metadata": {
      "needs_background": "light"
     },
     "output_type": "display_data"
    }
   ],
   "source": [
    "tour_travel.boxplot(column=\"age\",figsize=(6,6))"
   ]
  },
  {
   "cell_type": "code",
   "execution_count": 87,
   "metadata": {},
   "outputs": [
    {
     "data": {
      "text/plain": [
       "<matplotlib.axes._subplots.AxesSubplot at 0x1f939d2b888>"
      ]
     },
     "execution_count": 87,
     "metadata": {},
     "output_type": "execute_result"
    },
    {
     "data": {
      "image/png": "[encoded data removed]",
      "text/plain": [
       "<Figure size 432x432 with 1 Axes>"
      ]
     },
     "metadata": {
      "needs_background": "light"
     },
     "output_type": "display_data"
    }
   ],
   "source": [
    "tour_travel.boxplot(column=\"educ\",figsize=(6,6))"
   ]
  },
  {
   "cell_type": "code",
   "execution_count": 88,
   "metadata": {},
   "outputs": [
    {
     "data": {
      "text/plain": [
       "<matplotlib.axes._subplots.AxesSubplot at 0x1f93a5e3848>"
      ]
     },
     "execution_count": 88,
     "metadata": {},
     "output_type": "execute_result"
    },
    {
     "data": {
      "image/png": "[encoded data removed]",
      "text/plain": [
       "<Figure size 432x432 with 1 Axes>"
      ]
     },
     "metadata": {
      "needs_background": "light"
     },
     "output_type": "display_data"
    }
   ],
   "source": [
    "tour_travel.boxplot(column=\"no_young_children\",figsize=(6,6))"
   ]
  },
  {
   "cell_type": "code",
   "execution_count": 89,
   "metadata": {},
   "outputs": [
    {
     "data": {
      "text/plain": [
       "<matplotlib.axes._subplots.AxesSubplot at 0x1f93a64dc48>"
      ]
     },
     "execution_count": 89,
     "metadata": {},
     "output_type": "execute_result"
    },
    {
     "data": {
      "image/png": "[encoded data removed]",
      "text/plain": [
       "<Figure size 432x432 with 1 Axes>"
      ]
     },
     "metadata": {
      "needs_background": "light"
     },
     "output_type": "display_data"
    }
   ],
   "source": [
    "tour_travel.boxplot(column=\"no_older_children\",figsize=(6,6))"
   ]
  },
  {
   "cell_type": "code",
   "execution_count": 90,
   "metadata": {},
   "outputs": [
    {
     "data": {
      "text/plain": [
       "['Salary', 'age', 'educ', 'no_young_children', 'no_older_children']"
      ]
     },
     "execution_count": 90,
     "metadata": {},
     "output_type": "execute_result"
    }
   ],
   "source": [
    "Numeric=tour_travel.dtypes[(tour_travel.dtypes=='int64')].index.tolist()\n",
    "Numeric"
   ]
  },
  {
   "cell_type": "code",
   "execution_count": 91,
   "metadata": {},
   "outputs": [
    {
     "name": "stdout",
     "output_type": "stream",
     "text": [
      "Five point summary : Salary\n",
      "Min :  1322.0\n",
      "L1 : 8105.75\n",
      "Q1 :  35324.0\n",
      "Q2 :  41903.5\n",
      "Q3 :  53469.5\n",
      "Max :  236961.0\n",
      "UL :  80687.75\n",
      "******************************\n",
      "Five point summary : age\n",
      "Min :  20.0\n",
      "L1 : 8.0\n",
      "Q1 :  32.0\n",
      "Q2 :  39.0\n",
      "Q3 :  48.0\n",
      "Max :  62.0\n",
      "UL :  72.0\n",
      "******************************\n",
      "Five point summary : educ\n",
      "Min :  1.0\n",
      "L1 : 2.0\n",
      "Q1 :  8.0\n",
      "Q2 :  9.0\n",
      "Q3 :  12.0\n",
      "Max :  21.0\n",
      "UL :  18.0\n",
      "******************************\n",
      "Five point summary : no_young_children\n",
      "Min :  0.0\n",
      "L1 : 0.0\n",
      "Q1 :  0.0\n",
      "Q2 :  0.0\n",
      "Q3 :  0.0\n",
      "Max :  3.0\n",
      "UL :  0.0\n",
      "******************************\n",
      "Five point summary : no_older_children\n",
      "Min :  0.0\n",
      "L1 : -3.0\n",
      "Q1 :  0.0\n",
      "Q2 :  1.0\n",
      "Q3 :  2.0\n",
      "Max :  6.0\n",
      "UL :  5.0\n",
      "******************************\n"
     ]
    }
   ],
   "source": [
    "for i in range(len(Numeric)):\n",
    "    print(\"Five point summary :\" , Numeric[i] )\n",
    "    print(\"Min : \" , np.percentile(tour_travel[Numeric[i]],0))\n",
    "    Q3=np.percentile(tour_travel[Numeric[i]],75)\n",
    "    Q1=np.percentile(tour_travel[Numeric[i]],25)\n",
    "    IQR=Q3-Q1\n",
    "    UL = Q3 +1.5*IQR\n",
    "    LL = Q1 - 1.5*IQR\n",
    "    print(\"L1 :\", LL)\n",
    "    print(\"Q1 : \", np.percentile(tour_travel[Numeric[i]], 25))\n",
    "    print(\"Q2 : \", np.percentile(tour_travel[Numeric[i]], 50))\n",
    "    print(\"Q3 : \", np.percentile(tour_travel[Numeric[i]], 75))\n",
    "    print(\"Max : \", np.percentile(tour_travel[Numeric[i]],100))\n",
    "    print(\"UL : \", UL)\n",
    "    print(\"******************************\")"
   ]
  },
  {
   "cell_type": "markdown",
   "metadata": {},
   "source": [
    "#### Covariance & Correlation of the Data"
   ]
  },
  {
   "cell_type": "code",
   "execution_count": 92,
   "metadata": {},
   "outputs": [
    {
     "data": {
      "text/html": [
       "<div>\n",
       "<style scoped>\n",
       "    .dataframe tbody tr th:only-of-type {\n",
       "        vertical-align: middle;\n",
       "    }\n",
       "\n",
       "    .dataframe tbody tr th {\n",
       "        vertical-align: top;\n",
       "    }\n",
       "\n",
       "    .dataframe thead th {\n",
       "        text-align: right;\n",
       "    }\n",
       "</style>\n",
       "<table border=\"1\" class=\"dataframe\">\n",
       "  <thead>\n",
       "    <tr style=\"text-align: right;\">\n",
       "      <th></th>\n",
       "      <th>Salary</th>\n",
       "      <th>age</th>\n",
       "      <th>educ</th>\n",
       "      <th>no_young_children</th>\n",
       "      <th>no_older_children</th>\n",
       "    </tr>\n",
       "  </thead>\n",
       "  <tbody>\n",
       "    <tr>\n",
       "      <th>Salary</th>\n",
       "      <td>5.484340e+08</td>\n",
       "      <td>17719.779229</td>\n",
       "      <td>23218.662341</td>\n",
       "      <td>-425.752915</td>\n",
       "      <td>2895.613755</td>\n",
       "    </tr>\n",
       "    <tr>\n",
       "      <th>age</th>\n",
       "      <td>1.771978e+04</td>\n",
       "      <td>111.337837</td>\n",
       "      <td>-4.783024</td>\n",
       "      <td>-3.356871</td>\n",
       "      <td>-1.332573</td>\n",
       "    </tr>\n",
       "    <tr>\n",
       "      <th>educ</th>\n",
       "      <td>2.321866e+04</td>\n",
       "      <td>-4.783024</td>\n",
       "      <td>9.218867</td>\n",
       "      <td>0.183012</td>\n",
       "      <td>-0.119851</td>\n",
       "    </tr>\n",
       "    <tr>\n",
       "      <th>no_young_children</th>\n",
       "      <td>-4.257529e+02</td>\n",
       "      <td>-3.356871</td>\n",
       "      <td>0.183012</td>\n",
       "      <td>0.375610</td>\n",
       "      <td>-0.158807</td>\n",
       "    </tr>\n",
       "    <tr>\n",
       "      <th>no_older_children</th>\n",
       "      <td>2.895614e+03</td>\n",
       "      <td>-1.332573</td>\n",
       "      <td>-0.119851</td>\n",
       "      <td>-0.158807</td>\n",
       "      <td>1.181104</td>\n",
       "    </tr>\n",
       "  </tbody>\n",
       "</table>\n",
       "</div>"
      ],
      "text/plain": [
       "                         Salary           age          educ  \\\n",
       "Salary             5.484340e+08  17719.779229  23218.662341   \n",
       "age                1.771978e+04    111.337837     -4.783024   \n",
       "educ               2.321866e+04     -4.783024      9.218867   \n",
       "no_young_children -4.257529e+02     -3.356871      0.183012   \n",
       "no_older_children  2.895614e+03     -1.332573     -0.119851   \n",
       "\n",
       "                   no_young_children  no_older_children  \n",
       "Salary                   -425.752915        2895.613755  \n",
       "age                        -3.356871          -1.332573  \n",
       "educ                        0.183012          -0.119851  \n",
       "no_young_children           0.375610          -0.158807  \n",
       "no_older_children          -0.158807           1.181104  "
      ]
     },
     "execution_count": 92,
     "metadata": {},
     "output_type": "execute_result"
    }
   ],
   "source": [
    "tour_travel.cov()"
   ]
  },
  {
   "cell_type": "code",
   "execution_count": 93,
   "metadata": {},
   "outputs": [
    {
     "data": {
      "text/html": [
       "<div>\n",
       "<style scoped>\n",
       "    .dataframe tbody tr th:only-of-type {\n",
       "        vertical-align: middle;\n",
       "    }\n",
       "\n",
       "    .dataframe tbody tr th {\n",
       "        vertical-align: top;\n",
       "    }\n",
       "\n",
       "    .dataframe thead th {\n",
       "        text-align: right;\n",
       "    }\n",
       "</style>\n",
       "<table border=\"1\" class=\"dataframe\">\n",
       "  <thead>\n",
       "    <tr style=\"text-align: right;\">\n",
       "      <th></th>\n",
       "      <th>Salary</th>\n",
       "      <th>age</th>\n",
       "      <th>educ</th>\n",
       "      <th>no_young_children</th>\n",
       "      <th>no_older_children</th>\n",
       "    </tr>\n",
       "  </thead>\n",
       "  <tbody>\n",
       "    <tr>\n",
       "      <th>Salary</th>\n",
       "      <td>1.000000</td>\n",
       "      <td>0.071709</td>\n",
       "      <td>0.326540</td>\n",
       "      <td>-0.029664</td>\n",
       "      <td>0.113772</td>\n",
       "    </tr>\n",
       "    <tr>\n",
       "      <th>age</th>\n",
       "      <td>0.071709</td>\n",
       "      <td>1.000000</td>\n",
       "      <td>-0.149294</td>\n",
       "      <td>-0.519093</td>\n",
       "      <td>-0.116205</td>\n",
       "    </tr>\n",
       "    <tr>\n",
       "      <th>educ</th>\n",
       "      <td>0.326540</td>\n",
       "      <td>-0.149294</td>\n",
       "      <td>1.000000</td>\n",
       "      <td>0.098350</td>\n",
       "      <td>-0.036321</td>\n",
       "    </tr>\n",
       "    <tr>\n",
       "      <th>no_young_children</th>\n",
       "      <td>-0.029664</td>\n",
       "      <td>-0.519093</td>\n",
       "      <td>0.098350</td>\n",
       "      <td>1.000000</td>\n",
       "      <td>-0.238428</td>\n",
       "    </tr>\n",
       "    <tr>\n",
       "      <th>no_older_children</th>\n",
       "      <td>0.113772</td>\n",
       "      <td>-0.116205</td>\n",
       "      <td>-0.036321</td>\n",
       "      <td>-0.238428</td>\n",
       "      <td>1.000000</td>\n",
       "    </tr>\n",
       "  </tbody>\n",
       "</table>\n",
       "</div>"
      ],
      "text/plain": [
       "                     Salary       age      educ  no_young_children  \\\n",
       "Salary             1.000000  0.071709  0.326540          -0.029664   \n",
       "age                0.071709  1.000000 -0.149294          -0.519093   \n",
       "educ               0.326540 -0.149294  1.000000           0.098350   \n",
       "no_young_children -0.029664 -0.519093  0.098350           1.000000   \n",
       "no_older_children  0.113772 -0.116205 -0.036321          -0.238428   \n",
       "\n",
       "                   no_older_children  \n",
       "Salary                      0.113772  \n",
       "age                        -0.116205  \n",
       "educ                       -0.036321  \n",
       "no_young_children          -0.238428  \n",
       "no_older_children           1.000000  "
      ]
     },
     "execution_count": 93,
     "metadata": {},
     "output_type": "execute_result"
    }
   ],
   "source": [
    "tour_travel.corr()"
   ]
  },
  {
   "cell_type": "code",
   "execution_count": 94,
   "metadata": {},
   "outputs": [
    {
     "data": {
      "image/png": "[encoded data removed]",
      "text/plain": [
       "<Figure size 504x396 with 2 Axes>"
      ]
     },
     "metadata": {
      "needs_background": "light"
     },
     "output_type": "display_data"
    }
   ],
   "source": [
    "fig,ax = plt.subplots(figsize=(7,5.5))   \n",
    "sns.heatmap(tour_travel.corr(), ax=ax, annot=True, linewidths=0.05, fmt= '.2f',cmap=\"magma\") # the color intensity is based on \n",
    "plt.show()"
   ]
  },
  {
   "cell_type": "markdown",
   "metadata": {},
   "source": [
    "#### Pairplot"
   ]
  },
  {
   "cell_type": "code",
   "execution_count": 95,
   "metadata": {},
   "outputs": [
    {
     "data": {
      "image/png": "[encoded data removed]",
      "text/plain": [
       "<Figure size 997.1x900 with 30 Axes>"
      ]
     },
     "metadata": {
      "needs_background": "light"
     },
     "output_type": "display_data"
    }
   ],
   "source": [
    "sns_plot = sns.pairplot(tour_travel,diag_kind='hist' ,hue='Holliday_Package')\n",
    "sns_plot.savefig(\"output.png\")"
   ]
  },
  {
   "cell_type": "code",
   "execution_count": 96,
   "metadata": {},
   "outputs": [
    {
     "name": "stdout",
     "output_type": "stream",
     "text": [
      "Number of duplicate rows = 0\n",
      "(872, 7)\n"
     ]
    }
   ],
   "source": [
    "dups = tour_travel.duplicated()\n",
    "print('Number of duplicate rows = %d' % (dups.sum()))\n",
    "print(tour_travel.shape)"
   ]
  },
  {
   "cell_type": "code",
   "execution_count": null,
   "metadata": {},
   "outputs": [],
   "source": []
  },
  {
   "cell_type": "markdown",
   "metadata": {},
   "source": [
    "### 2.2 Do not scale the data. Encode the data (having string values) for Modelling. Data Split: Split the data into train and test (70:30). Apply Logistic Regression and LDA (linear discriminant analysis)."
   ]
  },
  {
   "cell_type": "code",
   "execution_count": 97,
   "metadata": {},
   "outputs": [
    {
     "name": "stdout",
     "output_type": "stream",
     "text": [
      "\n",
      "\n",
      "feature: Holliday_Package\n",
      "[no, yes]\n",
      "Categories (2, object): [no, yes]\n",
      "[0 1]\n",
      "\n",
      "\n",
      "feature: foreign\n",
      "[no, yes]\n",
      "Categories (2, object): [no, yes]\n",
      "[0 1]\n"
     ]
    }
   ],
   "source": [
    "for feature in tour_travel.columns: \n",
    "    if tour_travel[feature].dtype == 'object': \n",
    "        print('\\n')\n",
    "        print('feature:',feature)\n",
    "        print(pd.Categorical(tour_travel[feature].unique()))\n",
    "        print(pd.Categorical(tour_travel[feature].unique()).codes)\n",
    "        tour_travel[feature] = pd.Categorical(tour_travel[feature]).codes"
   ]
  },
  {
   "cell_type": "code",
   "execution_count": 98,
   "metadata": {},
   "outputs": [
    {
     "data": {
      "text/html": [
       "<div>\n",
       "<style scoped>\n",
       "    .dataframe tbody tr th:only-of-type {\n",
       "        vertical-align: middle;\n",
       "    }\n",
       "\n",
       "    .dataframe tbody tr th {\n",
       "        vertical-align: top;\n",
       "    }\n",
       "\n",
       "    .dataframe thead th {\n",
       "        text-align: right;\n",
       "    }\n",
       "</style>\n",
       "<table border=\"1\" class=\"dataframe\">\n",
       "  <thead>\n",
       "    <tr style=\"text-align: right;\">\n",
       "      <th></th>\n",
       "      <th>Holliday_Package</th>\n",
       "      <th>Salary</th>\n",
       "      <th>age</th>\n",
       "      <th>educ</th>\n",
       "      <th>no_young_children</th>\n",
       "      <th>no_older_children</th>\n",
       "      <th>foreign</th>\n",
       "    </tr>\n",
       "  </thead>\n",
       "  <tbody>\n",
       "    <tr>\n",
       "      <th>0</th>\n",
       "      <td>0</td>\n",
       "      <td>48412</td>\n",
       "      <td>30</td>\n",
       "      <td>8</td>\n",
       "      <td>1</td>\n",
       "      <td>1</td>\n",
       "      <td>0</td>\n",
       "    </tr>\n",
       "    <tr>\n",
       "      <th>1</th>\n",
       "      <td>1</td>\n",
       "      <td>37207</td>\n",
       "      <td>45</td>\n",
       "      <td>8</td>\n",
       "      <td>0</td>\n",
       "      <td>1</td>\n",
       "      <td>0</td>\n",
       "    </tr>\n",
       "    <tr>\n",
       "      <th>2</th>\n",
       "      <td>0</td>\n",
       "      <td>58022</td>\n",
       "      <td>46</td>\n",
       "      <td>9</td>\n",
       "      <td>0</td>\n",
       "      <td>0</td>\n",
       "      <td>0</td>\n",
       "    </tr>\n",
       "    <tr>\n",
       "      <th>3</th>\n",
       "      <td>0</td>\n",
       "      <td>66503</td>\n",
       "      <td>31</td>\n",
       "      <td>11</td>\n",
       "      <td>2</td>\n",
       "      <td>0</td>\n",
       "      <td>0</td>\n",
       "    </tr>\n",
       "    <tr>\n",
       "      <th>4</th>\n",
       "      <td>0</td>\n",
       "      <td>66734</td>\n",
       "      <td>44</td>\n",
       "      <td>12</td>\n",
       "      <td>0</td>\n",
       "      <td>2</td>\n",
       "      <td>0</td>\n",
       "    </tr>\n",
       "  </tbody>\n",
       "</table>\n",
       "</div>"
      ],
      "text/plain": [
       "   Holliday_Package  Salary  age  educ  no_young_children  no_older_children  \\\n",
       "0                 0   48412   30     8                  1                  1   \n",
       "1                 1   37207   45     8                  0                  1   \n",
       "2                 0   58022   46     9                  0                  0   \n",
       "3                 0   66503   31    11                  2                  0   \n",
       "4                 0   66734   44    12                  0                  2   \n",
       "\n",
       "   foreign  \n",
       "0        0  \n",
       "1        0  \n",
       "2        0  \n",
       "3        0  \n",
       "4        0  "
      ]
     },
     "execution_count": 98,
     "metadata": {},
     "output_type": "execute_result"
    }
   ],
   "source": [
    "tour_travel.head()"
   ]
  },
  {
   "cell_type": "code",
   "execution_count": 99,
   "metadata": {},
   "outputs": [
    {
     "data": {
      "text/plain": [
       "0    0.540138\n",
       "1    0.459862\n",
       "Name: Holliday_Package, dtype: float64"
      ]
     },
     "execution_count": 99,
     "metadata": {},
     "output_type": "execute_result"
    }
   ],
   "source": [
    "tour_travel.Holliday_Package.value_counts(normalize=True)"
   ]
  },
  {
   "cell_type": "code",
   "execution_count": 100,
   "metadata": {},
   "outputs": [
    {
     "data": {
      "text/plain": [
       "Holliday_Package      int8\n",
       "Salary               int64\n",
       "age                  int64\n",
       "educ                 int64\n",
       "no_young_children    int64\n",
       "no_older_children    int64\n",
       "foreign               int8\n",
       "dtype: object"
      ]
     },
     "execution_count": 100,
     "metadata": {},
     "output_type": "execute_result"
    }
   ],
   "source": [
    "tour_travel.dtypes"
   ]
  },
  {
   "cell_type": "code",
   "execution_count": 101,
   "metadata": {},
   "outputs": [],
   "source": [
    "X = tour_travel.drop('Holliday_Package', axis=1)\n",
    "\n",
    "y = tour_travel['Holliday_Package']"
   ]
  },
  {
   "cell_type": "code",
   "execution_count": 102,
   "metadata": {},
   "outputs": [],
   "source": [
    "X_train, X_test, y_train, y_test = train_test_split(X, y, test_size=0.30,random_state=1,stratify=y)"
   ]
  },
  {
   "cell_type": "code",
   "execution_count": 103,
   "metadata": {},
   "outputs": [
    {
     "name": "stdout",
     "output_type": "stream",
     "text": [
      "Number of rows and columns of the training set for the independent variables: (610, 6)\n",
      "Number of rows and columns of the training set for the dependent variable: (610,)\n",
      "Number of rows and columns of the test set for the independent variables: (262, 6)\n",
      "Number of rows and columns of the test set for the dependent variable: (262,)\n"
     ]
    }
   ],
   "source": [
    "print('Number of rows and columns of the training set for the independent variables:',X_train.shape)\n",
    "print('Number of rows and columns of the training set for the dependent variable:',y_train.shape)\n",
    "print('Number of rows and columns of the test set for the independent variables:',X_test.shape)\n",
    "print('Number of rows and columns of the test set for the dependent variable:',y_test.shape)"
   ]
  },
  {
   "cell_type": "markdown",
   "metadata": {},
   "source": [
    "## LOGISTIC REGRESSION"
   ]
  },
  {
   "cell_type": "code",
   "execution_count": 104,
   "metadata": {},
   "outputs": [],
   "source": [
    "formula_1 = 'Holliday_Package~ Salary + age + educ + no_young_children + no_older_children + foreign'"
   ]
  },
  {
   "cell_type": "code",
   "execution_count": 105,
   "metadata": {},
   "outputs": [
    {
     "name": "stdout",
     "output_type": "stream",
     "text": [
      "Optimization terminated successfully.\n",
      "         Current function value: 0.601531\n",
      "         Iterations 6\n"
     ]
    }
   ],
   "source": [
    "Logistic_1 = sm.logit(formula=formula_1,data=tour_travel).fit()"
   ]
  },
  {
   "cell_type": "code",
   "execution_count": 106,
   "metadata": {},
   "outputs": [
    {
     "data": {
      "text/html": [
       "<table class=\"simpletable\">\n",
       "<caption>Logit Regression Results</caption>\n",
       "<tr>\n",
       "  <th>Dep. Variable:</th>   <td>Holliday_Package</td> <th>  No. Observations:  </th>  <td>   872</td>  \n",
       "</tr>\n",
       "<tr>\n",
       "  <th>Model:</th>                 <td>Logit</td>      <th>  Df Residuals:      </th>  <td>   865</td>  \n",
       "</tr>\n",
       "<tr>\n",
       "  <th>Method:</th>                 <td>MLE</td>       <th>  Df Model:          </th>  <td>     6</td>  \n",
       "</tr>\n",
       "<tr>\n",
       "  <th>Date:</th>            <td>Sun, 01 Nov 2020</td> <th>  Pseudo R-squ.:     </th>  <td>0.1281</td>  \n",
       "</tr>\n",
       "<tr>\n",
       "  <th>Time:</th>                <td>19:53:21</td>     <th>  Log-Likelihood:    </th> <td> -524.53</td> \n",
       "</tr>\n",
       "<tr>\n",
       "  <th>converged:</th>             <td>True</td>       <th>  LL-Null:           </th> <td> -601.61</td> \n",
       "</tr>\n",
       "<tr>\n",
       "  <th>Covariance Type:</th>     <td>nonrobust</td>    <th>  LLR p-value:       </th> <td>1.023e-30</td>\n",
       "</tr>\n",
       "</table>\n",
       "<table class=\"simpletable\">\n",
       "<tr>\n",
       "          <td></td>             <th>coef</th>     <th>std err</th>      <th>z</th>      <th>P>|z|</th>  <th>[0.025</th>    <th>0.975]</th>  \n",
       "</tr>\n",
       "<tr>\n",
       "  <th>Intercept</th>         <td>    2.3259</td> <td>    0.554</td> <td>    4.199</td> <td> 0.000</td> <td>    1.240</td> <td>    3.411</td>\n",
       "</tr>\n",
       "<tr>\n",
       "  <th>Salary</th>            <td>-1.814e-05</td> <td> 4.35e-06</td> <td>   -4.169</td> <td> 0.000</td> <td>-2.67e-05</td> <td>-9.61e-06</td>\n",
       "</tr>\n",
       "<tr>\n",
       "  <th>age</th>               <td>   -0.0482</td> <td>    0.009</td> <td>   -5.314</td> <td> 0.000</td> <td>   -0.066</td> <td>   -0.030</td>\n",
       "</tr>\n",
       "<tr>\n",
       "  <th>educ</th>              <td>    0.0392</td> <td>    0.029</td> <td>    1.337</td> <td> 0.181</td> <td>   -0.018</td> <td>    0.097</td>\n",
       "</tr>\n",
       "<tr>\n",
       "  <th>no_young_children</th> <td>   -1.3173</td> <td>    0.180</td> <td>   -7.326</td> <td> 0.000</td> <td>   -1.670</td> <td>   -0.965</td>\n",
       "</tr>\n",
       "<tr>\n",
       "  <th>no_older_children</th> <td>   -0.0204</td> <td>    0.074</td> <td>   -0.276</td> <td> 0.782</td> <td>   -0.165</td> <td>    0.124</td>\n",
       "</tr>\n",
       "<tr>\n",
       "  <th>foreign</th>           <td>    1.3216</td> <td>    0.200</td> <td>    6.601</td> <td> 0.000</td> <td>    0.929</td> <td>    1.714</td>\n",
       "</tr>\n",
       "</table>"
      ],
      "text/plain": [
       "<class 'statsmodels.iolib.summary.Summary'>\n",
       "\"\"\"\n",
       "                           Logit Regression Results                           \n",
       "==============================================================================\n",
       "Dep. Variable:       Holliday_Package   No. Observations:                  872\n",
       "Model:                          Logit   Df Residuals:                      865\n",
       "Method:                           MLE   Df Model:                            6\n",
       "Date:                Sun, 01 Nov 2020   Pseudo R-squ.:                  0.1281\n",
       "Time:                        19:53:21   Log-Likelihood:                -524.53\n",
       "converged:                       True   LL-Null:                       -601.61\n",
       "Covariance Type:            nonrobust   LLR p-value:                 1.023e-30\n",
       "=====================================================================================\n",
       "                        coef    std err          z      P>|z|      [0.025      0.975]\n",
       "-------------------------------------------------------------------------------------\n",
       "Intercept             2.3259      0.554      4.199      0.000       1.240       3.411\n",
       "Salary            -1.814e-05   4.35e-06     -4.169      0.000   -2.67e-05   -9.61e-06\n",
       "age                  -0.0482      0.009     -5.314      0.000      -0.066      -0.030\n",
       "educ                  0.0392      0.029      1.337      0.181      -0.018       0.097\n",
       "no_young_children    -1.3173      0.180     -7.326      0.000      -1.670      -0.965\n",
       "no_older_children    -0.0204      0.074     -0.276      0.782      -0.165       0.124\n",
       "foreign               1.3216      0.200      6.601      0.000       0.929       1.714\n",
       "=====================================================================================\n",
       "\"\"\""
      ]
     },
     "execution_count": 106,
     "metadata": {},
     "output_type": "execute_result"
    }
   ],
   "source": [
    "Logistic_1.summary()"
   ]
  },
  {
   "cell_type": "code",
   "execution_count": null,
   "metadata": {},
   "outputs": [],
   "source": []
  },
  {
   "cell_type": "code",
   "execution_count": 107,
   "metadata": {},
   "outputs": [],
   "source": [
    "grid={'penalty':['none','l2'],\n",
    "      'solver':['newton-cg','sag','lbfgs'],\n",
    "      'tol':[0.0001,0.00001]}"
   ]
  },
  {
   "cell_type": "code",
   "execution_count": 108,
   "metadata": {},
   "outputs": [],
   "source": [
    "model = LogisticRegression(max_iter=1000,n_jobs=2)"
   ]
  },
  {
   "cell_type": "code",
   "execution_count": 109,
   "metadata": {},
   "outputs": [],
   "source": [
    "grid_search = GridSearchCV(estimator = model, param_grid = grid,n_jobs=-1, cv = 10,scoring='f1')"
   ]
  },
  {
   "cell_type": "code",
   "execution_count": 110,
   "metadata": {},
   "outputs": [],
   "source": [
    "clf = grid_search.fit(X_train, y_train)"
   ]
  },
  {
   "cell_type": "code",
   "execution_count": 111,
   "metadata": {},
   "outputs": [
    {
     "name": "stdout",
     "output_type": "stream",
     "text": [
      "{'penalty': 'l2', 'solver': 'newton-cg', 'tol': 0.0001} \n",
      "\n",
      "LogisticRegression(max_iter=1000, n_jobs=2, solver='newton-cg')\n"
     ]
    }
   ],
   "source": [
    "print(grid_search.best_params_,'\\n')\n",
    "print(grid_search.best_estimator_)"
   ]
  },
  {
   "cell_type": "code",
   "execution_count": 112,
   "metadata": {},
   "outputs": [],
   "source": [
    "best_model_log = grid_search.best_estimator_"
   ]
  },
  {
   "cell_type": "code",
   "execution_count": 113,
   "metadata": {},
   "outputs": [
    {
     "data": {
      "text/plain": [
       "array([2.428])"
      ]
     },
     "execution_count": 113,
     "metadata": {},
     "output_type": "execute_result"
    }
   ],
   "source": [
    "best_model_log.intercept_"
   ]
  },
  {
   "cell_type": "code",
   "execution_count": 114,
   "metadata": {},
   "outputs": [
    {
     "data": {
      "text/plain": [
       "array([[-1.641e-05, -5.545e-02,  5.595e-02, -1.288e+00, -3.983e-02,\n",
       "         1.194e+00]])"
      ]
     },
     "execution_count": 114,
     "metadata": {},
     "output_type": "execute_result"
    }
   ],
   "source": [
    "best_model_log.coef_ "
   ]
  },
  {
   "cell_type": "markdown",
   "metadata": {},
   "source": [
    "## LINEAR DISCRIMINANT ANALYSIS"
   ]
  },
  {
   "cell_type": "code",
   "execution_count": 115,
   "metadata": {},
   "outputs": [],
   "source": [
    "#Build LDA Model\n",
    "clf = LinearDiscriminantAnalysis()\n",
    "lda=clf.fit(X_train,y_train)"
   ]
  },
  {
   "cell_type": "markdown",
   "metadata": {},
   "source": [
    "<h2>2.3 Performance Metrics: Check the performance of Predictions on Train and Test sets using Accuracy, Confusion Matrix, Plot ROC curve and get ROC_AUC score for each model Final Model: Compare Both the models and write inference which model is best/optimized.</h2>"
   ]
  },
  {
   "cell_type": "markdown",
   "metadata": {},
   "source": [
    "## Logistic Regression"
   ]
  },
  {
   "cell_type": "markdown",
   "metadata": {},
   "source": [
    "### Predicting on Training and Test dataset "
   ]
  },
  {
   "cell_type": "code",
   "execution_count": 116,
   "metadata": {},
   "outputs": [],
   "source": [
    "y_train_predict = best_model_log.predict(X_train)\n",
    "y_test_predict = best_model_log.predict(X_test)"
   ]
  },
  {
   "cell_type": "code",
   "execution_count": 117,
   "metadata": {},
   "outputs": [
    {
     "data": {
      "text/html": [
       "<div>\n",
       "<style scoped>\n",
       "    .dataframe tbody tr th:only-of-type {\n",
       "        vertical-align: middle;\n",
       "    }\n",
       "\n",
       "    .dataframe tbody tr th {\n",
       "        vertical-align: top;\n",
       "    }\n",
       "\n",
       "    .dataframe thead th {\n",
       "        text-align: right;\n",
       "    }\n",
       "</style>\n",
       "<table border=\"1\" class=\"dataframe\">\n",
       "  <thead>\n",
       "    <tr style=\"text-align: right;\">\n",
       "      <th></th>\n",
       "      <th>0</th>\n",
       "      <th>1</th>\n",
       "    </tr>\n",
       "  </thead>\n",
       "  <tbody>\n",
       "    <tr>\n",
       "      <th>0</th>\n",
       "      <td>0.679768</td>\n",
       "      <td>0.320232</td>\n",
       "    </tr>\n",
       "    <tr>\n",
       "      <th>1</th>\n",
       "      <td>0.534158</td>\n",
       "      <td>0.465842</td>\n",
       "    </tr>\n",
       "    <tr>\n",
       "      <th>2</th>\n",
       "      <td>0.691538</td>\n",
       "      <td>0.308462</td>\n",
       "    </tr>\n",
       "    <tr>\n",
       "      <th>3</th>\n",
       "      <td>0.490169</td>\n",
       "      <td>0.509831</td>\n",
       "    </tr>\n",
       "    <tr>\n",
       "      <th>4</th>\n",
       "      <td>0.553668</td>\n",
       "      <td>0.446332</td>\n",
       "    </tr>\n",
       "  </tbody>\n",
       "</table>\n",
       "</div>"
      ],
      "text/plain": [
       "          0         1\n",
       "0  0.679768  0.320232\n",
       "1  0.534158  0.465842\n",
       "2  0.691538  0.308462\n",
       "3  0.490169  0.509831\n",
       "4  0.553668  0.446332"
      ]
     },
     "execution_count": 117,
     "metadata": {},
     "output_type": "execute_result"
    }
   ],
   "source": [
    "y_test_predict_prob=best_model_log.predict_proba(X_test)\n",
    "pd.DataFrame(y_test_predict_prob).head()"
   ]
  },
  {
   "cell_type": "code",
   "execution_count": 118,
   "metadata": {
    "scrolled": true
   },
   "outputs": [
    {
     "data": {
      "text/plain": [
       "0.6672131147540984"
      ]
     },
     "execution_count": 118,
     "metadata": {},
     "output_type": "execute_result"
    }
   ],
   "source": [
    "accuracy_train_log= best_model_log.score(X_train, y_train)\n",
    "accuracy_train_log"
   ]
  },
  {
   "cell_type": "code",
   "execution_count": 119,
   "metadata": {
    "scrolled": true
   },
   "outputs": [
    {
     "data": {
      "text/plain": [
       "array([[244,  85],\n",
       "       [118, 163]], dtype=int64)"
      ]
     },
     "execution_count": 119,
     "metadata": {},
     "output_type": "execute_result"
    }
   ],
   "source": [
    "confusion_matrix(y_train, y_train_predict)"
   ]
  },
  {
   "cell_type": "code",
   "execution_count": 120,
   "metadata": {},
   "outputs": [
    {
     "data": {
      "image/png": "[encoded data removed]",
      "text/plain": [
       "<Figure size 432x288 with 2 Axes>"
      ]
     },
     "metadata": {
      "needs_background": "light"
     },
     "output_type": "display_data"
    }
   ],
   "source": [
    "plot_confusion_matrix(best_model_log,X_train,y_train);"
   ]
  },
  {
   "cell_type": "code",
   "execution_count": 121,
   "metadata": {},
   "outputs": [
    {
     "name": "stdout",
     "output_type": "stream",
     "text": [
      "              precision    recall  f1-score   support\n",
      "\n",
      "           0       0.67      0.74      0.71       329\n",
      "           1       0.66      0.58      0.62       281\n",
      "\n",
      "    accuracy                           0.67       610\n",
      "   macro avg       0.67      0.66      0.66       610\n",
      "weighted avg       0.67      0.67      0.66       610\n",
      "\n"
     ]
    }
   ],
   "source": [
    "print(classification_report(y_train, y_train_predict))"
   ]
  },
  {
   "cell_type": "code",
   "execution_count": 122,
   "metadata": {},
   "outputs": [
    {
     "name": "stdout",
     "output_type": "stream",
     "text": [
      "Logistic Model Train Precision  0.66\n",
      "Logistic Model Train Recall  0.58\n",
      "Logistic Model Train F1  0.62\n"
     ]
    }
   ],
   "source": [
    "metrics_train_log = classification_report(y_train, y_train_predict,output_dict=True)\n",
    "df=pd.DataFrame(metrics_train_log).transpose()\n",
    "train_precision_log=round(df.loc[\"1\"][0],2)\n",
    "train_recall_log=round(df.loc[\"1\"][1],2)\n",
    "train_f1_log=round(df.loc[\"1\"][2],2)\n",
    "print ('Logistic Model Train Precision ',train_precision_log)\n",
    "print ('Logistic Model Train Recall ',train_recall_log)\n",
    "print ('Logistic Model Train F1 ',train_f1_log)"
   ]
  },
  {
   "cell_type": "code",
   "execution_count": 123,
   "metadata": {
    "scrolled": true
   },
   "outputs": [
    {
     "name": "stdout",
     "output_type": "stream",
     "text": [
      "AUC- Logistic Regression (Train): 0.735\n"
     ]
    },
    {
     "data": {
      "image/png": "[encoded data removed]",
      "text/plain": [
       "<Figure size 432x288 with 1 Axes>"
      ]
     },
     "metadata": {
      "needs_background": "light"
     },
     "output_type": "display_data"
    }
   ],
   "source": [
    "# predict probabilities\n",
    "probs = best_model_log.predict_proba(X_train)\n",
    "# keep probabilities for the positive outcome only\n",
    "probs = probs[:, 1]\n",
    "# calculate AUC\n",
    "train_auc_log = roc_auc_score(y_train, probs)\n",
    "print('AUC- Logistic Regression (Train): %.3f' % train_auc_log)\n",
    "# calculate roc curve\n",
    "train_fpr_log, train_tpr_log, train_thresholds = roc_curve(y_train, probs)\n",
    "plt.plot([0, 1], [0, 1], linestyle='--')\n",
    "# plot the roc curve for the model\n",
    "plt.plot(train_fpr_log, train_tpr_log);"
   ]
  },
  {
   "cell_type": "code",
   "execution_count": 124,
   "metadata": {},
   "outputs": [
    {
     "data": {
      "text/plain": [
       "0.6526717557251909"
      ]
     },
     "execution_count": 124,
     "metadata": {},
     "output_type": "execute_result"
    }
   ],
   "source": [
    "# Accuracy - Test Data\n",
    "accuracy_test_log=best_model_log.score(X_test, y_test)\n",
    "accuracy_test_log"
   ]
  },
  {
   "cell_type": "code",
   "execution_count": 125,
   "metadata": {},
   "outputs": [
    {
     "data": {
      "text/plain": [
       "array([[108,  34],\n",
       "       [ 57,  63]], dtype=int64)"
      ]
     },
     "execution_count": 125,
     "metadata": {},
     "output_type": "execute_result"
    }
   ],
   "source": [
    "confusion_matrix(y_test, y_test_predict)"
   ]
  },
  {
   "cell_type": "code",
   "execution_count": 126,
   "metadata": {},
   "outputs": [
    {
     "data": {
      "image/png": "[encoded data removed]",
      "text/plain": [
       "<Figure size 432x288 with 2 Axes>"
      ]
     },
     "metadata": {
      "needs_background": "light"
     },
     "output_type": "display_data"
    }
   ],
   "source": [
    "plot_confusion_matrix(best_model_log,X_test,y_test);"
   ]
  },
  {
   "cell_type": "code",
   "execution_count": 127,
   "metadata": {
    "scrolled": true
   },
   "outputs": [
    {
     "name": "stdout",
     "output_type": "stream",
     "text": [
      "              precision    recall  f1-score   support\n",
      "\n",
      "           0       0.65      0.76      0.70       142\n",
      "           1       0.65      0.53      0.58       120\n",
      "\n",
      "    accuracy                           0.65       262\n",
      "   macro avg       0.65      0.64      0.64       262\n",
      "weighted avg       0.65      0.65      0.65       262\n",
      "\n"
     ]
    }
   ],
   "source": [
    "print(classification_report(y_test, y_test_predict))"
   ]
  },
  {
   "cell_type": "code",
   "execution_count": 128,
   "metadata": {},
   "outputs": [
    {
     "name": "stdout",
     "output_type": "stream",
     "text": [
      "LR_test_precision  0.65\n",
      "LR_test_recall  0.52\n",
      "LR_test_f1  0.58\n"
     ]
    }
   ],
   "source": [
    "metrics_test_log=classification_report(y_test, y_test_predict,output_dict=True)\n",
    "df=pd.DataFrame(metrics_test_log).transpose()\n",
    "test_precision_log=round(df.loc[\"1\"][0],2)\n",
    "test_recall_log=round(df.loc[\"1\"][1],2)\n",
    "test_f1_log=round(df.loc[\"1\"][2],2)\n",
    "print ('LR_test_precision ',test_precision_log)\n",
    "print ('LR_test_recall ',test_recall_log)\n",
    "print ('LR_test_f1 ',test_f1_log)"
   ]
  },
  {
   "cell_type": "code",
   "execution_count": 129,
   "metadata": {},
   "outputs": [
    {
     "name": "stdout",
     "output_type": "stream",
     "text": [
      "AUC- Logistic Regression (Test): 0.716\n"
     ]
    },
    {
     "data": {
      "image/png": "[encoded data removed]",
      "text/plain": [
       "<Figure size 432x288 with 1 Axes>"
      ]
     },
     "metadata": {
      "needs_background": "light"
     },
     "output_type": "display_data"
    }
   ],
   "source": [
    "# predict probabilities\n",
    "probs = best_model_log.predict_proba(X_test)\n",
    "# keep probabilities for the positive outcome only\n",
    "probs = probs[:, 1]\n",
    "# calculate AUC\n",
    "test_auc_log = roc_auc_score(y_test, probs)\n",
    "print('AUC- Logistic Regression (Test): %.3f' % test_auc_log)\n",
    "# calculate roc curve\n",
    "test_fpr_log, test_tpr_log, test_thresholds = roc_curve(y_test, probs)\n",
    "plt.plot([0, 1], [0, 1], linestyle='--')\n",
    "# plot the roc curve for the model\n",
    "plt.plot(test_fpr_log, test_tpr_log);"
   ]
  },
  {
   "cell_type": "markdown",
   "metadata": {},
   "source": [
    "## Linear Discriminant Analysis"
   ]
  },
  {
   "cell_type": "code",
   "execution_count": 130,
   "metadata": {},
   "outputs": [],
   "source": [
    "# Training Data Class Prediction with a cut-off value of 0.5\n",
    "pred_class_train = lda.predict(X_train)\n",
    "\n",
    "# Test Data Class Prediction with a cut-off value of 0.5\n",
    "pred_class_test = lda.predict(X_test)"
   ]
  },
  {
   "cell_type": "code",
   "execution_count": 131,
   "metadata": {},
   "outputs": [],
   "source": [
    "# Training Data Probability Prediction\n",
    "pred_prob_train = lda.predict_proba(X_train)\n",
    "\n",
    "# Test Data Probability Prediction\n",
    "pred_prob_test = lda.predict_proba(X_test)"
   ]
  },
  {
   "cell_type": "code",
   "execution_count": 132,
   "metadata": {},
   "outputs": [
    {
     "data": {
      "text/plain": [
       "array([0.738, 0.29 , 0.382, 0.765, 0.467, 0.443, 0.377, 0.309, 0.611,\n",
       "       0.642, 0.252, 0.265, 0.399, 0.046, 0.23 , 0.362, 0.537, 0.334,\n",
       "       0.63 , 0.626, 0.62 , 0.26 , 0.878, 0.33 , 0.099, 0.832, 0.207,\n",
       "       0.745, 0.525, 0.186, 0.34 , 0.327, 0.379, 0.429, 0.311, 0.287,\n",
       "       0.116, 0.531, 0.47 , 0.221, 0.26 , 0.81 , 0.515, 0.74 , 0.797,\n",
       "       0.401, 0.298, 0.931, 0.445, 0.707, 0.755, 0.469, 0.772, 0.376,\n",
       "       0.227, 0.742, 0.262, 0.525, 0.672, 0.341, 0.623, 0.577, 0.543,\n",
       "       0.451, 0.564, 0.597, 0.121, 0.574, 0.389, 0.262, 0.357, 0.743,\n",
       "       0.766, 0.227, 0.429, 0.173, 0.483, 0.66 , 0.563, 0.478, 0.537,\n",
       "       0.564, 0.825, 0.433, 0.635, 0.759, 0.236, 0.499, 0.465, 0.296,\n",
       "       0.532, 0.683, 0.818, 0.667, 0.498, 0.737, 0.21 , 0.57 , 0.398,\n",
       "       0.41 , 0.452, 0.391, 0.452, 0.526, 0.276, 0.442, 0.414, 0.824,\n",
       "       0.308, 0.331, 0.584, 0.256, 0.688, 0.241, 0.291, 0.395, 0.305,\n",
       "       0.584, 0.138, 0.485, 0.304, 0.64 , 0.754, 0.476, 0.45 , 0.163,\n",
       "       0.226, 0.488, 0.528, 0.391, 0.663, 0.302, 0.674, 0.149, 0.589,\n",
       "       0.638, 0.306, 0.331, 0.062, 0.287, 0.711, 0.333, 0.222, 0.742,\n",
       "       0.61 , 0.35 , 0.664, 0.683, 0.444, 0.766, 0.601, 0.927, 0.505,\n",
       "       0.098, 0.641, 0.429, 0.041, 0.622, 0.358, 0.528, 0.293, 0.481,\n",
       "       0.357, 0.849, 0.62 , 0.083, 0.37 , 0.702, 0.596, 0.81 , 0.429,\n",
       "       0.362, 0.741, 0.383, 0.348, 0.447, 0.533, 0.402, 0.624, 0.238,\n",
       "       0.385, 0.502, 0.884, 0.244, 0.376, 0.723, 0.078, 0.421, 0.394,\n",
       "       0.132, 0.568, 0.447, 0.6  , 0.54 , 0.26 , 0.565, 0.76 , 0.577,\n",
       "       0.781, 0.376, 0.294, 0.293, 0.503, 0.558, 0.659, 0.463, 0.222,\n",
       "       0.157, 0.85 , 0.31 , 0.674, 0.359, 0.433, 0.503, 0.661, 0.438,\n",
       "       0.556, 0.744, 0.466, 0.466, 0.433, 0.277, 0.161, 0.651, 0.359,\n",
       "       0.655, 0.246, 0.61 , 0.067, 0.435, 0.663, 0.565, 0.373, 0.402,\n",
       "       0.648, 0.266, 0.826, 0.799, 0.865, 0.224, 0.571, 0.782, 0.642,\n",
       "       0.744, 0.158, 0.386, 0.53 , 0.192, 0.539, 0.451, 0.476, 0.077,\n",
       "       0.426, 0.344, 0.167, 0.301, 0.395, 0.125, 0.506, 0.721, 0.445,\n",
       "       0.826, 0.406, 0.257, 0.454, 0.528, 0.791, 0.465, 0.345, 0.425,\n",
       "       0.309, 0.723, 0.441, 0.704, 0.651, 0.215, 0.494, 0.277, 0.547,\n",
       "       0.246, 0.776, 0.608, 0.439, 0.274, 0.453, 0.252, 0.163, 0.341,\n",
       "       0.517, 0.192, 0.341, 0.478, 0.473, 0.725, 0.416, 0.044, 0.174,\n",
       "       0.405, 0.184, 0.486, 0.438, 0.733, 0.177, 0.372, 0.527, 0.769,\n",
       "       0.312, 0.602, 0.342, 0.458, 0.305, 0.66 , 0.792, 0.352, 0.562,\n",
       "       0.326, 0.345, 0.31 , 0.341, 0.149, 0.76 , 0.207, 0.343, 0.788,\n",
       "       0.212, 0.365, 0.347, 0.783, 0.433, 0.769, 0.499, 0.298, 0.769,\n",
       "       0.721, 0.314, 0.389, 0.074, 0.607, 0.881, 0.69 , 0.596, 0.734,\n",
       "       0.67 , 0.141, 0.567, 0.435, 0.46 , 0.435, 0.707, 0.7  , 0.536,\n",
       "       0.377, 0.659, 0.309, 0.276, 0.671, 0.242, 0.44 , 0.308, 0.398,\n",
       "       0.583, 0.194, 0.476, 0.234, 0.45 , 0.559, 0.284, 0.166, 0.85 ,\n",
       "       0.653, 0.267, 0.815, 0.366, 0.169, 0.833, 0.247, 0.348, 0.355,\n",
       "       0.429, 0.323, 0.502, 0.726, 0.133, 0.568, 0.147, 0.287, 0.26 ,\n",
       "       0.757, 0.043, 0.545, 0.249, 0.041, 0.775, 0.73 , 0.728, 0.726,\n",
       "       0.406, 0.409, 0.517, 0.828, 0.469, 0.219, 0.379, 0.307, 0.268,\n",
       "       0.441, 0.107, 0.669, 0.434, 0.496, 0.247, 0.297, 0.379, 0.265,\n",
       "       0.724, 0.311, 0.137, 0.627, 0.273, 0.393, 0.761, 0.081, 0.856,\n",
       "       0.873, 0.678, 0.375, 0.363, 0.249, 0.393, 0.669, 0.715, 0.801,\n",
       "       0.452, 0.812, 0.622, 0.318, 0.593, 0.394, 0.32 , 0.706, 0.415,\n",
       "       0.429, 0.814, 0.687, 0.463, 0.458, 0.279, 0.721, 0.609, 0.514,\n",
       "       0.75 , 0.273, 0.533, 0.5  , 0.389, 0.646, 0.592, 0.305, 0.345,\n",
       "       0.389, 0.262, 0.717, 0.421, 0.544, 0.514, 0.87 , 0.593, 0.595,\n",
       "       0.244, 0.145, 0.527, 0.285, 0.719, 0.407, 0.519, 0.178, 0.403,\n",
       "       0.248, 0.547, 0.371, 0.7  , 0.31 , 0.599, 0.301, 0.298, 0.171,\n",
       "       0.321, 0.34 , 0.437, 0.589, 0.326, 0.538, 0.461, 0.73 , 0.816,\n",
       "       0.175, 0.69 , 0.306, 0.386, 0.318, 0.755, 0.57 , 0.273, 0.328,\n",
       "       0.332, 0.215, 0.302, 0.797, 0.851, 0.316, 0.154, 0.715, 0.676,\n",
       "       0.226, 0.864, 0.6  , 0.611, 0.795, 0.327, 0.64 , 0.503, 0.505,\n",
       "       0.318, 0.81 , 0.397, 0.677, 0.212, 0.352, 0.343, 0.464, 0.449,\n",
       "       0.391, 0.495, 0.264, 0.199, 0.527, 0.391, 0.292, 0.624, 0.048,\n",
       "       0.227, 0.411, 0.278, 0.36 , 0.559, 0.308, 0.242, 0.449, 0.319,\n",
       "       0.54 , 0.565, 0.579, 0.687, 0.359, 0.403, 0.412, 0.654, 0.266,\n",
       "       0.163, 0.41 , 0.139, 0.139, 0.519, 0.106, 0.77 , 0.308, 0.643,\n",
       "       0.735, 0.83 , 0.503, 0.762, 0.364, 0.247, 0.608, 0.291, 0.45 ,\n",
       "       0.368, 0.121, 0.115, 0.524, 0.415, 0.305, 0.476, 0.56 , 0.451,\n",
       "       0.123, 0.663, 0.243, 0.268, 0.506, 0.299, 0.331, 0.63 , 0.445,\n",
       "       0.376, 0.285, 0.438, 0.464, 0.109, 0.368, 0.376, 0.279, 0.86 ,\n",
       "       0.516, 0.782, 0.385, 0.44 , 0.548, 0.737, 0.479])"
      ]
     },
     "execution_count": 132,
     "metadata": {},
     "output_type": "execute_result"
    }
   ],
   "source": [
    "pred_prob_train[:,1]"
   ]
  },
  {
   "cell_type": "code",
   "execution_count": 133,
   "metadata": {},
   "outputs": [
    {
     "data": {
      "text/plain": [
       "0.6639344262295082"
      ]
     },
     "execution_count": 133,
     "metadata": {},
     "output_type": "execute_result"
    }
   ],
   "source": [
    "accuracy_train_LDA= lda.score(X_train, y_train)\n",
    "accuracy_train_LDA"
   ]
  },
  {
   "cell_type": "code",
   "execution_count": 134,
   "metadata": {},
   "outputs": [
    {
     "name": "stdout",
     "output_type": "stream",
     "text": [
      "Classification Report of the training data:\n",
      "\n",
      "               precision    recall  f1-score   support\n",
      "\n",
      "           0       0.67      0.74      0.70       329\n",
      "           1       0.65      0.58      0.61       281\n",
      "\n",
      "    accuracy                           0.66       610\n",
      "   macro avg       0.66      0.66      0.66       610\n",
      "weighted avg       0.66      0.66      0.66       610\n",
      "\n"
     ]
    }
   ],
   "source": [
    "print('Classification Report of the training data:\\n\\n',metrics.classification_report(y_train,pred_class_train))"
   ]
  },
  {
   "cell_type": "code",
   "execution_count": 135,
   "metadata": {},
   "outputs": [
    {
     "name": "stdout",
     "output_type": "stream",
     "text": [
      "LDA_train_precision  0.65\n",
      "LDA_train_recall  0.52\n",
      "LDA_train_f1  0.58\n"
     ]
    }
   ],
   "source": [
    "metrics_LDA_train=classification_report(y_train,pred_class_train,output_dict=True)\n",
    "df_3=pd.DataFrame(metrics_LDA_train).transpose()\n",
    "train_precision_LDA=round(df.loc[\"1\"][0],2)\n",
    "train_recall_LDA=round(df.loc[\"1\"][1],2)\n",
    "train_f1_LDA=round(df.loc[\"1\"][2],2)\n",
    "print ('LDA_train_precision ',train_precision_LDA)\n",
    "print ('LDA_train_recall ',train_recall_LDA)\n",
    "print ('LDA_train_f1 ',train_f1_LDA)"
   ]
  },
  {
   "cell_type": "code",
   "execution_count": 136,
   "metadata": {},
   "outputs": [
    {
     "name": "stdout",
     "output_type": "stream",
     "text": [
      "AUC- LDA (Train)  0.733\n"
     ]
    },
    {
     "data": {
      "image/png": "[encoded data removed]",
      "text/plain": [
       "<Figure size 432x288 with 1 Axes>"
      ]
     },
     "metadata": {
      "needs_background": "light"
     },
     "output_type": "display_data"
    }
   ],
   "source": [
    "# predict probabilities\n",
    "probs = lda.predict_proba(X_train)\n",
    "# keep probabilities for the positive outcome only\n",
    "probs = probs[:, 1]\n",
    "# calculate AUC\n",
    "train_auc_LDA = roc_auc_score(y_train, probs)\n",
    "print('AUC- LDA (Train)  %.3f' % train_auc_LDA)\n",
    "# calculate roc curve\n",
    "train_fpr_LDA,train_tpr_LDA, train_thresholds = roc_curve(y_train, probs)\n",
    "plt.plot([0, 1], [0, 1], linestyle='--')\n",
    "# plot the roc curve for the model\n",
    "plt.plot(train_fpr_LDA, train_tpr_LDA);"
   ]
  },
  {
   "cell_type": "code",
   "execution_count": 137,
   "metadata": {},
   "outputs": [
    {
     "data": {
      "text/plain": [
       "<matplotlib.axes._subplots.AxesSubplot at 0x1f93a29ac48>"
      ]
     },
     "execution_count": 137,
     "metadata": {},
     "output_type": "execute_result"
    },
    {
     "data": {
      "image/png": "[encoded data removed]",
      "text/plain": [
       "<Figure size 432x288 with 2 Axes>"
      ]
     },
     "metadata": {
      "needs_background": "light"
     },
     "output_type": "display_data"
    }
   ],
   "source": [
    "sns.heatmap((metrics.confusion_matrix(y_train,pred_class_train)),annot=True,fmt='.5g')"
   ]
  },
  {
   "cell_type": "code",
   "execution_count": 138,
   "metadata": {},
   "outputs": [
    {
     "data": {
      "text/plain": [
       "0.6412213740458015"
      ]
     },
     "execution_count": 138,
     "metadata": {},
     "output_type": "execute_result"
    }
   ],
   "source": [
    "accuracy_test_LDA = lda.score(X_test, y_test)\n",
    "accuracy_test_LDA"
   ]
  },
  {
   "cell_type": "code",
   "execution_count": 139,
   "metadata": {},
   "outputs": [
    {
     "name": "stdout",
     "output_type": "stream",
     "text": [
      "Classification Report of the test data:\n",
      "\n",
      "               precision    recall  f1-score   support\n",
      "\n",
      "           0       0.64      0.77      0.70       142\n",
      "           1       0.64      0.49      0.56       120\n",
      "\n",
      "    accuracy                           0.64       262\n",
      "   macro avg       0.64      0.63      0.63       262\n",
      "weighted avg       0.64      0.64      0.63       262\n",
      "\n"
     ]
    }
   ],
   "source": [
    "print('Classification Report of the test data:\\n\\n',metrics.classification_report(y_test,pred_class_test))"
   ]
  },
  {
   "cell_type": "code",
   "execution_count": 140,
   "metadata": {},
   "outputs": [
    {
     "name": "stdout",
     "output_type": "stream",
     "text": [
      "LDA_test_precision  0.65\n",
      "LDA_test_recall  0.52\n",
      "LDA_test_f1  0.58\n"
     ]
    }
   ],
   "source": [
    "metrics_LDA_test=classification_report(y_test,pred_class_test,output_dict=True)\n",
    "df_4=pd.DataFrame(metrics_LDA_test).transpose()\n",
    "test_precision_LDA=round(df.loc[\"1\"][0],2)\n",
    "test_recall_LDA=round(df.loc[\"1\"][1],2)\n",
    "test_f1_LDA=round(df.loc[\"1\"][2],2)\n",
    "print ('LDA_test_precision ',test_precision_LDA)\n",
    "print ('LDA_test_recall ',test_recall_LDA)\n",
    "print ('LDA_test_f1 ',test_f1_LDA)"
   ]
  },
  {
   "cell_type": "code",
   "execution_count": 141,
   "metadata": {},
   "outputs": [
    {
     "name": "stdout",
     "output_type": "stream",
     "text": [
      "AUC- LDA (Test): 0.714\n"
     ]
    },
    {
     "data": {
      "image/png": "[encoded data removed]",
      "text/plain": [
       "<Figure size 432x288 with 1 Axes>"
      ]
     },
     "metadata": {
      "needs_background": "light"
     },
     "output_type": "display_data"
    }
   ],
   "source": [
    "# predict probabilities\n",
    "probs = lda.predict_proba(X_test)\n",
    "# keep probabilities for the positive outcome only\n",
    "probs = probs[:, 1]\n",
    "# calculate AUC\n",
    "test_auc_LDA = roc_auc_score(y_test, probs)\n",
    "print('AUC- LDA (Test): %.3f' % test_auc_LDA)\n",
    "# calculate roc curve\n",
    "test_fpr_LDA, test_tpr_LDA, test_thresholds = roc_curve(y_test, probs)\n",
    "plt.plot([0, 1], [0, 1], linestyle='--')\n",
    "# plot the roc curve for the model\n",
    "plt.plot(test_fpr_LDA, test_tpr_LDA);"
   ]
  },
  {
   "cell_type": "code",
   "execution_count": 142,
   "metadata": {},
   "outputs": [
    {
     "data": {
      "text/plain": [
       "<matplotlib.axes._subplots.AxesSubplot at 0x1f93dd7f948>"
      ]
     },
     "execution_count": 142,
     "metadata": {},
     "output_type": "execute_result"
    },
    {
     "data": {
      "image/png": "[encoded data removed]",
      "text/plain": [
       "<Figure size 432x288 with 2 Axes>"
      ]
     },
     "metadata": {
      "needs_background": "light"
     },
     "output_type": "display_data"
    }
   ],
   "source": [
    "sns.heatmap((metrics.confusion_matrix(y_test,pred_class_test)),annot=True,fmt='.5g')"
   ]
  },
  {
   "cell_type": "markdown",
   "metadata": {},
   "source": [
    "# Comparison of the performance metrics from the 3 models"
   ]
  },
  {
   "cell_type": "code",
   "execution_count": 143,
   "metadata": {},
   "outputs": [
    {
     "data": {
      "text/html": [
       "<div>\n",
       "<style scoped>\n",
       "    .dataframe tbody tr th:only-of-type {\n",
       "        vertical-align: middle;\n",
       "    }\n",
       "\n",
       "    .dataframe tbody tr th {\n",
       "        vertical-align: top;\n",
       "    }\n",
       "\n",
       "    .dataframe thead th {\n",
       "        text-align: right;\n",
       "    }\n",
       "</style>\n",
       "<table border=\"1\" class=\"dataframe\">\n",
       "  <thead>\n",
       "    <tr style=\"text-align: right;\">\n",
       "      <th></th>\n",
       "      <th>LR Train</th>\n",
       "      <th>LR Test</th>\n",
       "      <th>LDA Train</th>\n",
       "      <th>LDA Test</th>\n",
       "    </tr>\n",
       "  </thead>\n",
       "  <tbody>\n",
       "    <tr>\n",
       "      <th>Accuracy</th>\n",
       "      <td>0.67</td>\n",
       "      <td>0.65</td>\n",
       "      <td>0.66</td>\n",
       "      <td>0.64</td>\n",
       "    </tr>\n",
       "    <tr>\n",
       "      <th>AUC</th>\n",
       "      <td>0.74</td>\n",
       "      <td>0.72</td>\n",
       "      <td>0.73</td>\n",
       "      <td>0.71</td>\n",
       "    </tr>\n",
       "    <tr>\n",
       "      <th>Precision</th>\n",
       "      <td>0.66</td>\n",
       "      <td>0.65</td>\n",
       "      <td>0.65</td>\n",
       "      <td>0.65</td>\n",
       "    </tr>\n",
       "    <tr>\n",
       "      <th>Recall</th>\n",
       "      <td>0.58</td>\n",
       "      <td>0.52</td>\n",
       "      <td>0.52</td>\n",
       "      <td>0.52</td>\n",
       "    </tr>\n",
       "    <tr>\n",
       "      <th>F1 Score</th>\n",
       "      <td>0.62</td>\n",
       "      <td>0.58</td>\n",
       "      <td>0.58</td>\n",
       "      <td>0.58</td>\n",
       "    </tr>\n",
       "  </tbody>\n",
       "</table>\n",
       "</div>"
      ],
      "text/plain": [
       "           LR Train  LR Test  LDA Train  LDA Test\n",
       "Accuracy       0.67     0.65       0.66      0.64\n",
       "AUC            0.74     0.72       0.73      0.71\n",
       "Precision      0.66     0.65       0.65      0.65\n",
       "Recall         0.58     0.52       0.52      0.52\n",
       "F1 Score       0.62     0.58       0.58      0.58"
      ]
     },
     "execution_count": 143,
     "metadata": {},
     "output_type": "execute_result"
    }
   ],
   "source": [
    "index=['Accuracy', 'AUC','Precision','Recall','F1 Score']\n",
    "data = pd.DataFrame({'LR Train':[accuracy_train_log,train_auc_log,train_precision_log,train_recall_log,train_f1_log],\n",
    "        'LR Test':[accuracy_test_log,test_auc_log,test_precision_log,test_recall_log,test_f1_log],\n",
    "       'LDA Train':[accuracy_train_LDA,train_auc_LDA,train_precision_LDA,train_recall_LDA,train_f1_LDA],\n",
    "        'LDA Test':[accuracy_test_LDA,test_auc_LDA,test_precision_LDA,test_recall_LDA,test_f1_LDA]},index=index)\n",
    "round(data,2)"
   ]
  },
  {
   "cell_type": "markdown",
   "metadata": {},
   "source": [
    "# ROC Curve for the 3 models on the Training data"
   ]
  },
  {
   "cell_type": "code",
   "execution_count": 144,
   "metadata": {},
   "outputs": [
    {
     "data": {
      "text/plain": [
       "<matplotlib.legend.Legend at 0x1f939b7fe48>"
      ]
     },
     "execution_count": 144,
     "metadata": {},
     "output_type": "execute_result"
    },
    {
     "data": {
      "image/png": "[encoded data removed]",
      "text/plain": [
       "<Figure size 432x288 with 1 Axes>"
      ]
     },
     "metadata": {
      "needs_background": "light"
     },
     "output_type": "display_data"
    }
   ],
   "source": [
    "plt.plot([0, 1], [0, 1], linestyle='--')\n",
    "plt.plot(train_fpr_log, train_tpr_log,color='blue',label=\"LR\")\n",
    "plt.plot(train_fpr_LDA, train_tpr_LDA,color='orange',label=\"LDA\")\n",
    "plt.xlabel('False Positive Rate')\n",
    "plt.ylabel('True Positive Rate')\n",
    "plt.title('ROC')\n",
    "plt.legend(bbox_to_anchor=(0., 1.02, 1., .102), loc='lower right')"
   ]
  },
  {
   "cell_type": "code",
   "execution_count": 145,
   "metadata": {},
   "outputs": [
    {
     "data": {
      "text/plain": [
       "<matplotlib.legend.Legend at 0x1f93a2cc848>"
      ]
     },
     "execution_count": 145,
     "metadata": {},
     "output_type": "execute_result"
    },
    {
     "data": {
      "image/png": "[encoded data removed]",
      "text/plain": [
       "<Figure size 432x288 with 1 Axes>"
      ]
     },
     "metadata": {
      "needs_background": "light"
     },
     "output_type": "display_data"
    }
   ],
   "source": [
    "plt.plot([0, 1], [0, 1], linestyle='--')\n",
    "plt.plot(test_fpr_log,test_tpr_log,color='blue',label=\"LR\")\n",
    "plt.plot(test_fpr_LDA, test_tpr_LDA,color='orange',label=\"LDA\")\n",
    "plt.xlabel('False Positive Rate')\n",
    "plt.ylabel('True Positive Rate')\n",
    "plt.title('ROC')\n",
    "plt.legend(bbox_to_anchor=(0., 1.02, 1., .102), loc='lower right')"
   ]
  },
  {
   "cell_type": "markdown",
   "metadata": {},
   "source": [
    "## 2.4 Inference: Basis on these predictions, what are the insights and recommendations."
   ]
  },
  {
   "cell_type": "markdown",
   "metadata": {},
   "source": [
    "The most important variables are:\n",
    "1.\tForeign\n",
    "2.\tSalary\n",
    "3.\tNo_young_children\n",
    "4.\tEduc\n",
    "5.\tAge\n",
    "6.\tNo_older_chilren\n",
    "\n",
    "•\tForeigner employees of the company are more likely to opt for the holiday package as compared to the domestic employees. We can further investigate as to what could plausibly be the reason for same and formulate few strategies to attract more domestic employees of the company (as they might be larger in proportion compared to foreigners in the company). This might further help stimulating the profits for the Tour and Travel agency.\n",
    "\n",
    "•\tAn increase in Salary of the employees are pushing them against opting the holiday package. This is remarkably interesting. However, this will help us take an important decision that those whose salary has increased may not be the audience of the company. There should be more schemes to attract them as they have the potential to pay for tours and in turn be one of the most profitable segment of customers.\n",
    "\n",
    "•\tWith the increase in the no of young children in the employees’ family lesser are the chances that they are opting for the holiday package. It is very intuitive in the sense that spending on children for education and saving up for them might cause the employees to opt out from the package.\n",
    "\n",
    "•\tWith the increase in the years of the formal education, higher are the chances they will opt for the package. Hence to some extent, the agency can also take into consideration the no of years of education of the employees while segmenting the customers.\n",
    "\n",
    "•\tWith increase in the age, people are observed to have lesser and lesser interest in opting for the holiday package. This will help the agency in identifying the segment they have to target on, hence can maximise the profit.\n",
    "\n",
    "•\tWith higher number of older children in the family, chances that the employees choose for the package will also reduce. This again might be influenced by the fact that children needs investments on their education and families try to save up on that instead of opting for the holiday package. This factor again needs attention as this along with the no of young children in the employees’ family may have severe effects on the profitability of the agency. So along with the holiday package provided to such category of the employees’, the agency can also provide them with the online class coupons or discounts on few course enrolment for their children to attract them into opting the package. This will help enhancing the profitability of the company.\n"
   ]
  },
  {
   "cell_type": "code",
   "execution_count": null,
   "metadata": {},
   "outputs": [],
   "source": []
  }
 ],
 "metadata": {
  "kernelspec": {
   "display_name": "Python 3",
   "language": "python",
   "name": "python3"
  },
  "language_info": {
   "codemirror_mode": {
    "name": "ipython",
    "version": 3
   },
   "file_extension": ".py",
   "mimetype": "text/x-python",
   "name": "python",
   "nbconvert_exporter": "python",
   "pygments_lexer": "ipython3",
   "version": "3.7.6"
  }
 },
 "nbformat": 4,
 "nbformat_minor": 4
}
